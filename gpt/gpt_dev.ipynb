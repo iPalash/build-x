{
 "cells": [
  {
   "cell_type": "code",
   "execution_count": 2,
   "id": "425cca1c",
   "metadata": {},
   "outputs": [
    {
     "name": "stdout",
     "output_type": "stream",
     "text": [
      "  % Total    % Received % Xferd  Average Speed   Time    Time     Time  Current\n",
      "                                 Dload  Upload   Total   Spent    Left  Speed\n",
      "100 1089k  100 1089k    0     0  1264k      0 --:--:-- --:--:-- --:--:-- 1269k 0  0:00:02 --:--:--  0:00:02  441k\n"
     ]
    }
   ],
   "source": [
    "!curl https://raw.githubusercontent.com/karpathy/char-rnn/master/data/tinyshakespeare/input.txt -o input.txt"
   ]
  },
  {
   "cell_type": "code",
   "execution_count": 3,
   "id": "85cd13d2",
   "metadata": {},
   "outputs": [],
   "source": [
    "with open('input.txt','r',encoding='utf-8') as f:\n",
    "    text = f.read()"
   ]
  },
  {
   "cell_type": "code",
   "execution_count": 4,
   "id": "e9b8bdb2",
   "metadata": {},
   "outputs": [
    {
     "name": "stdout",
     "output_type": "stream",
     "text": [
      "len of dataset in chars: 1115394\n"
     ]
    }
   ],
   "source": [
    "print('len of dataset in chars:', len(text)) # 1 million chars"
   ]
  },
  {
   "cell_type": "code",
   "execution_count": 5,
   "id": "eff53d4a",
   "metadata": {
    "scrolled": true
   },
   "outputs": [
    {
     "name": "stdout",
     "output_type": "stream",
     "text": [
      "First Citizen:\n",
      "Before we proceed any further, hear me speak.\n",
      "\n",
      "All:\n",
      "Speak, speak.\n",
      "\n",
      "First Citizen:\n",
      "You are all resolved rather to die than to famish?\n",
      "\n",
      "All:\n",
      "Resolved. resolved.\n",
      "\n",
      "First Citizen:\n",
      "First, you know Caius Marcius is chief enemy to the people.\n",
      "\n",
      "All:\n",
      "We know't, we know't.\n",
      "\n",
      "First Citizen:\n",
      "Let us kill him, and we'll have corn at our own price.\n",
      "Is't a verdict?\n",
      "\n",
      "All:\n",
      "No more talking on't; let it be done: away, away!\n",
      "\n",
      "Second Citizen:\n",
      "One word, good citizens.\n",
      "\n",
      "First Citizen:\n",
      "We are accounted poor citizens, the patricians good.\n",
      "What authority surfeits on would relieve us: if they\n",
      "would yield us but the superfluity, while it were\n",
      "wholesome, we might guess they relieved us humanely;\n",
      "but they think we are too dear: the leanness that\n",
      "afflicts us, the object of our misery, is as an\n",
      "inventory to particularise their abundance; our\n",
      "sufferance is a gain to them Let us revenge this with\n",
      "our pikes, ere we become rakes: for the gods know I\n",
      "speak this in hunger for bread, not in thirst for revenge.\n",
      "\n",
      "\n"
     ]
    }
   ],
   "source": [
    "print(text[:1000])"
   ]
  },
  {
   "cell_type": "code",
   "execution_count": 6,
   "id": "78732cdf",
   "metadata": {},
   "outputs": [
    {
     "name": "stdout",
     "output_type": "stream",
     "text": [
      "\n",
      " !$&',-.3:;?ABCDEFGHIJKLMNOPQRSTUVWXYZabcdefghijklmnopqrstuvwxyz 65\n"
     ]
    }
   ],
   "source": [
    "chars = sorted(list(set(text)))\n",
    "vocab_size = len(chars)\n",
    "print(''.join(chars), vocab_size)"
   ]
  },
  {
   "cell_type": "code",
   "execution_count": 7,
   "id": "e8ee04b4",
   "metadata": {},
   "outputs": [
    {
     "name": "stdout",
     "output_type": "stream",
     "text": [
      "[46, 47] hi\n"
     ]
    }
   ],
   "source": [
    "# tokenize\n",
    "\n",
    "stoi = {ch:i for i,ch in enumerate(chars)}\n",
    "itos = {i:ch for i,ch in enumerate(chars)}\n",
    "encode = lambda s :  [stoi[c] for c in s] # encoder : take a string, return list on ints\n",
    "decode = lambda l : ''.join([itos[i] for i in l]) # decode : take a list of ints, output string\n",
    "\n",
    "print(encode('hi'),decode(encode('hi')))"
   ]
  },
  {
   "cell_type": "code",
   "execution_count": 10,
   "id": "8568ede6",
   "metadata": {},
   "outputs": [
    {
     "name": "stdout",
     "output_type": "stream",
     "text": [
      "torch.Size([1115394]) torch.int64\n",
      "tensor([18, 47, 56, 57, 58,  1, 15, 47, 58, 47, 64, 43, 52, 10,  0, 14, 43, 44,\n",
      "        53, 56, 43,  1, 61, 43,  1, 54, 56, 53, 41, 43, 43, 42,  1, 39, 52, 63,\n",
      "         1, 44, 59, 56, 58, 46, 43, 56,  6,  1, 46, 43, 39, 56,  1, 51, 43,  1,\n",
      "        57, 54, 43, 39, 49,  8,  0,  0, 13, 50, 50, 10,  0, 31, 54, 43, 39, 49,\n",
      "         6,  1, 57, 54, 43, 39, 49,  8,  0,  0, 18, 47, 56, 57, 58,  1, 15, 47,\n",
      "        58, 47, 64, 43, 52, 10,  0, 37, 53, 59])\n"
     ]
    }
   ],
   "source": [
    "import torch\n",
    "data = torch.tensor(encode(text),dtype=torch.long)\n",
    "print(data.shape,data.dtype)\n",
    "print(data[:100])"
   ]
  },
  {
   "cell_type": "code",
   "execution_count": 11,
   "id": "1db357a2",
   "metadata": {},
   "outputs": [],
   "source": [
    "n = int(0.9*len(data)) # 90% train , 10% val\n",
    "train_data = data[:n]\n",
    "val_data = data[n:]\n"
   ]
  },
  {
   "cell_type": "code",
   "execution_count": 14,
   "id": "9f5f2fd4",
   "metadata": {},
   "outputs": [
    {
     "data": {
      "text/plain": [
       "tensor([18, 47, 56, 57, 58,  1, 15, 47, 58])"
      ]
     },
     "execution_count": 14,
     "metadata": {},
     "output_type": "execute_result"
    }
   ],
   "source": [
    "block_size = 8\n",
    "train_data[:block_size+1]"
   ]
  },
  {
   "cell_type": "code",
   "execution_count": 15,
   "id": "63e22adb",
   "metadata": {},
   "outputs": [
    {
     "name": "stdout",
     "output_type": "stream",
     "text": [
      "tensor([18]) --> tensor(47)\n",
      "tensor([18, 47]) --> tensor(56)\n",
      "tensor([18, 47, 56]) --> tensor(57)\n",
      "tensor([18, 47, 56, 57]) --> tensor(58)\n",
      "tensor([18, 47, 56, 57, 58]) --> tensor(1)\n",
      "tensor([18, 47, 56, 57, 58,  1]) --> tensor(15)\n",
      "tensor([18, 47, 56, 57, 58,  1, 15]) --> tensor(47)\n",
      "tensor([18, 47, 56, 57, 58,  1, 15, 47]) --> tensor(58)\n"
     ]
    }
   ],
   "source": [
    "x = train_data[:block_size]\n",
    "y = train_data[1:block_size+1]\n",
    "for t in range(block_size):\n",
    "    context = x[:t+1]\n",
    "    target = y[t]\n",
    "    print(context,'-->',target)"
   ]
  },
  {
   "cell_type": "code",
   "execution_count": 20,
   "id": "59787ef9",
   "metadata": {
    "scrolled": true
   },
   "outputs": [
    {
     "name": "stdout",
     "output_type": "stream",
     "text": [
      "inputs:\n",
      "torch.Size([4, 8])\n",
      "tensor([[24, 43, 58,  5, 57,  1, 46, 43],\n",
      "        [44, 53, 56,  1, 58, 46, 39, 58],\n",
      "        [52, 58,  1, 58, 46, 39, 58,  1],\n",
      "        [25, 17, 27, 10,  0, 21,  1, 54]])\n",
      "targets:\n",
      "torch.Size([4, 8])\n",
      "tensor([[43, 58,  5, 57,  1, 46, 43, 39],\n",
      "        [53, 56,  1, 58, 46, 39, 58,  1],\n",
      "        [58,  1, 58, 46, 39, 58,  1, 46],\n",
      "        [17, 27, 10,  0, 21,  1, 54, 39]])\n",
      "-----\n",
      "when: [24] --> 43\n",
      "when: [24, 43] --> 58\n",
      "when: [24, 43, 58] --> 5\n",
      "when: [24, 43, 58, 5] --> 57\n",
      "when: [24, 43, 58, 5, 57] --> 1\n",
      "when: [24, 43, 58, 5, 57, 1] --> 46\n",
      "when: [24, 43, 58, 5, 57, 1, 46] --> 43\n",
      "when: [24, 43, 58, 5, 57, 1, 46, 43] --> 39\n",
      "when: [44] --> 53\n",
      "when: [44, 53] --> 56\n",
      "when: [44, 53, 56] --> 1\n",
      "when: [44, 53, 56, 1] --> 58\n",
      "when: [44, 53, 56, 1, 58] --> 46\n",
      "when: [44, 53, 56, 1, 58, 46] --> 39\n",
      "when: [44, 53, 56, 1, 58, 46, 39] --> 58\n",
      "when: [44, 53, 56, 1, 58, 46, 39, 58] --> 1\n",
      "when: [52] --> 58\n",
      "when: [52, 58] --> 1\n",
      "when: [52, 58, 1] --> 58\n",
      "when: [52, 58, 1, 58] --> 46\n",
      "when: [52, 58, 1, 58, 46] --> 39\n",
      "when: [52, 58, 1, 58, 46, 39] --> 58\n",
      "when: [52, 58, 1, 58, 46, 39, 58] --> 1\n",
      "when: [52, 58, 1, 58, 46, 39, 58, 1] --> 46\n",
      "when: [25] --> 17\n",
      "when: [25, 17] --> 27\n",
      "when: [25, 17, 27] --> 10\n",
      "when: [25, 17, 27, 10] --> 0\n",
      "when: [25, 17, 27, 10, 0] --> 21\n",
      "when: [25, 17, 27, 10, 0, 21] --> 1\n",
      "when: [25, 17, 27, 10, 0, 21, 1] --> 54\n",
      "when: [25, 17, 27, 10, 0, 21, 1, 54] --> 39\n"
     ]
    }
   ],
   "source": [
    "torch.manual_seed(1337)\n",
    "batch_size = 4 # how many independent seq will we process in parallel\n",
    "block_size = 8 # max context len for predictions\n",
    "\n",
    "def get_batch(split):\n",
    "    data = train_data if split=='train' else val_data\n",
    "    ix = torch.randint(len(data)-block_size, (batch_size,))\n",
    "    x = torch.stack([data[i:i+block_size] for i in ix])\n",
    "    y = torch.stack([data[i+1:i+block_size+1] for i in ix])\n",
    "    return x,y\n",
    "\n",
    "xb, yb = get_batch('train')\n",
    "print('inputs:')\n",
    "print(xb.shape)\n",
    "print(xb)\n",
    "print('targets:')\n",
    "print(yb.shape)\n",
    "print(yb)\n",
    "\n",
    "print('-----')\n",
    "for b in range(batch_size): # batch dim\n",
    "    for t in range(block_size): # time dim\n",
    "        context = xb[b,:t+1]\n",
    "        target = yb[b,t]\n",
    "        print(f'when: {context.tolist()} --> {target}')"
   ]
  },
  {
   "cell_type": "code",
   "execution_count": 22,
   "id": "4105f24e",
   "metadata": {},
   "outputs": [
    {
     "name": "stdout",
     "output_type": "stream",
     "text": [
      "tensor([[24, 43, 58,  5, 57,  1, 46, 43],\n",
      "        [44, 53, 56,  1, 58, 46, 39, 58],\n",
      "        [52, 58,  1, 58, 46, 39, 58,  1],\n",
      "        [25, 17, 27, 10,  0, 21,  1, 54]])\n"
     ]
    }
   ],
   "source": [
    "print(xb) # input to transformer"
   ]
  },
  {
   "cell_type": "code",
   "execution_count": 31,
   "id": "6da483ce",
   "metadata": {},
   "outputs": [
    {
     "name": "stdout",
     "output_type": "stream",
     "text": [
      "torch.Size([32, 65]) tensor(4.8786, grad_fn=<NllLossBackward0>)\n",
      "\n",
      "SKIcLT;AcELMoTbvZv C?nq-QE33:CJqkOKH-q;:la!oiywkHjgChzbQ?u!3bLIgwevmyFJGUGp\n",
      "wnYWmnxKWWev-tDqXErVKLgJ\n"
     ]
    }
   ],
   "source": [
    "# start with bigram model\n",
    "\n",
    "import torch\n",
    "import torch.nn as nn\n",
    "from torch.nn import functional as F\n",
    "torch.manual_seed(1337)\n",
    "\n",
    "class BigramLanguageModel(nn.Module):\n",
    "    \n",
    "    def __init__(self, vocab_size):\n",
    "        super().__init__()\n",
    "        # each token directly reads off the logits for the next token from a lookup table\n",
    "        self.token_embedding_table = nn.Embedding(vocab_size, vocab_size)\n",
    "        \n",
    "    def forward(self, idx, targets=None):\n",
    "        \n",
    "        # idx and target are both (B,T) tensor of ints\n",
    "        logits = self.token_embedding_table(idx) # (B,T,C)\n",
    "        if targets is None:\n",
    "            loss = None\n",
    "        else:\n",
    "            B,T,C = logits.shape\n",
    "            logits = logits.view(B*T,C)\n",
    "            targets = targets.view(B*T)\n",
    "            loss = F.cross_entropy(logits, targets)\n",
    "        \n",
    "        return logits, loss\n",
    "    \n",
    "    def generate(self, idx, max_new_tokens):\n",
    "        # idx is (B,T) array of indices in the current context\n",
    "        for _ in range(max_new_tokens):\n",
    "            # get preds\n",
    "            logits, loss = self(idx)\n",
    "            # focus only on the last time step\n",
    "            logits = logits[:,-1,:] # becomes (B,C)\n",
    "            # apply softmax to get prob\n",
    "            probs = F.softmax(logits, dim=-1) # B,C\n",
    "            # sample\n",
    "            idx_next = torch.multinomial(probs,num_samples=1) # B,1\n",
    "            # append sampled idx to running seq\n",
    "            idx = torch.cat((idx,idx_next), dim=1) # (B,T+1)\n",
    "        return idx\n",
    "\n",
    "\n",
    "m = BigramLanguageModel(vocab_size)\n",
    "logits, loss = m.forward(xb,yb)\n",
    "print(logits.shape,loss)\n",
    "idx = torch.zeros((1,1), dtype=torch.long)\n",
    "print(decode(m.generate(idx, max_new_tokens=100)[0].tolist()))"
   ]
  },
  {
   "cell_type": "code",
   "execution_count": 32,
   "id": "1bf2abcc",
   "metadata": {},
   "outputs": [],
   "source": [
    "# create a pytorch optimizer\n",
    "optimizer = torch.optim.AdamW(m.parameters(), lr=1e-3)"
   ]
  },
  {
   "cell_type": "code",
   "execution_count": 41,
   "id": "35e9cfde",
   "metadata": {
    "scrolled": true
   },
   "outputs": [
    {
     "name": "stdout",
     "output_type": "stream",
     "text": [
      "2.576992988586426\n"
     ]
    }
   ],
   "source": [
    "batch_size = 32\n",
    "for steps in range(10000):\n",
    "    \n",
    "    # sample a batch of data\n",
    "    xb, yb = get_batch('train')\n",
    "    \n",
    "    # eval the loss\n",
    "    logits, loss = m(xb,yb)\n",
    "    optimizer.zero_grad(set_to_none=True)\n",
    "    loss.backward()\n",
    "    optimizer.step()\n",
    "    \n",
    "print(loss.item())"
   ]
  },
  {
   "cell_type": "code",
   "execution_count": 47,
   "id": "28c9e636",
   "metadata": {},
   "outputs": [
    {
     "name": "stdout",
     "output_type": "stream",
     "text": [
      "\n",
      "A:\n",
      "Anck theweag t io, d at.\n",
      "KE: co ctisefang he t veswerde, t thises;\n",
      "Bund wiemetiarele hen\n",
      "le, be a\n"
     ]
    }
   ],
   "source": [
    "print(decode(m.generate(torch.zeros((1,1),dtype=torch.long), max_new_tokens=100)[0].tolist()))"
   ]
  },
  {
   "cell_type": "code",
   "execution_count": 48,
   "id": "d039aa13",
   "metadata": {},
   "outputs": [],
   "source": [
    "# self attention"
   ]
  },
  {
   "cell_type": "code",
   "execution_count": 55,
   "id": "b0162c4e",
   "metadata": {},
   "outputs": [
    {
     "data": {
      "text/plain": [
       "torch.Size([4, 8, 2])"
      ]
     },
     "execution_count": 55,
     "metadata": {},
     "output_type": "execute_result"
    }
   ],
   "source": [
    "# consider the toy example\n",
    "\n",
    "torch.manual_seed(1337)\n",
    "B,T,C = 4,8,2 # batch, time, channels\n",
    "x = torch.rand(B,T,C)\n",
    "x.shape\n"
   ]
  },
  {
   "cell_type": "code",
   "execution_count": 58,
   "id": "0023be70",
   "metadata": {},
   "outputs": [],
   "source": [
    "# want x[b,t] = mean_{i<=t} x[b,i]\n",
    "xbow = torch.zeros(B,T,C)\n",
    "for b in range(B):\n",
    "    for t in range(T):\n",
    "        xprev = x[b,:t+1] # (t,C)\n",
    "        xbow[b,t] = torch.mean(xprev,0)\n"
   ]
  },
  {
   "cell_type": "code",
   "execution_count": 64,
   "id": "dbbf2ffc",
   "metadata": {},
   "outputs": [
    {
     "data": {
      "text/plain": [
       "True"
      ]
     },
     "execution_count": 64,
     "metadata": {},
     "output_type": "execute_result"
    }
   ],
   "source": [
    "wei = torch.tril(torch.ones(T,T))\n",
    "wei /= wei.sum(1,keepdim=True)\n",
    "xbow2 = wei@x\n",
    "torch.allclose(xbow,xbow2)"
   ]
  },
  {
   "cell_type": "code",
   "execution_count": 67,
   "id": "6fb394a4",
   "metadata": {},
   "outputs": [
    {
     "data": {
      "text/plain": [
       "True"
      ]
     },
     "execution_count": 67,
     "metadata": {},
     "output_type": "execute_result"
    }
   ],
   "source": [
    "# ver 3: use softmax\n",
    "tril = torch.tril(torch.ones(T,T))\n",
    "wei = torch.zeros(T,T)\n",
    "wei = wei.masked_fill(tril==0, float('-inf'))\n",
    "wei = F.softmax(wei, dim=1)\n",
    "xbow3 = wei@x\n",
    "torch.allclose(xbow,xbow3)"
   ]
  },
  {
   "cell_type": "code",
   "execution_count": 54,
   "id": "2f3f1e95",
   "metadata": {},
   "outputs": [
    {
     "name": "stdout",
     "output_type": "stream",
     "text": [
      "tensor([[1.0000, 0.0000, 0.0000],\n",
      "        [0.5000, 0.5000, 0.0000],\n",
      "        [0.3333, 0.3333, 0.3333]])\n",
      "tensor([[2., 7.],\n",
      "        [6., 4.],\n",
      "        [6., 5.]])\n",
      "tensor([[2.0000, 7.0000],\n",
      "        [4.0000, 5.5000],\n",
      "        [4.6667, 5.3333]])\n"
     ]
    }
   ],
   "source": [
    "torch.manual_seed(42)\n",
    "a = torch.tril(torch.ones((3,3))) # lower triangular\n",
    "a /= a.sum(1,keepdim=True)\n",
    "b = torch.randint(0,10,(3,2)).float()\n",
    "c= a @ b\n",
    "print(a)\n",
    "print(b)\n",
    "print(c)"
   ]
  },
  {
   "cell_type": "code",
   "execution_count": 101,
   "id": "127418dd",
   "metadata": {},
   "outputs": [
    {
     "data": {
      "text/plain": [
       "torch.Size([4, 8, 16])"
      ]
     },
     "execution_count": 101,
     "metadata": {},
     "output_type": "execute_result"
    }
   ],
   "source": [
    "# Finally soft attention\n",
    "torch.manual_seed(1337)\n",
    "B,T,C = 4,8,32 # batch, time, channels\n",
    "x = torch.rand(B,T,C)\n",
    "\n",
    "# single head performs self-attention\n",
    "head_size = 16\n",
    "key = nn.Linear(C, head_size, bias=False)\n",
    "query = nn.Linear(C, head_size, bias=False)\n",
    "value = nn.Linear(C, head_size, bias=False)\n",
    "k = key(x) # (B,T,16)\n",
    "q = query(x) # (B,T,16)\n",
    "wei = q @ k.transpose(-2,-1) * head_size**-0.5# (B,T,16) @ (B,16,T) -> (B,T,T)\n",
    "\n",
    "tril = torch.tril(torch.ones(T,T))\n",
    "# wei = torch.zeros(T,T)\n",
    "wei = wei.masked_fill(tril==0, float('-inf'))\n",
    "wei = F.softmax(wei, dim=-1)\n",
    "v = value(x)\n",
    "out = wei@v\n",
    "\n",
    "out.shape\n"
   ]
  },
  {
   "cell_type": "code",
   "execution_count": 103,
   "id": "e382e16f",
   "metadata": {},
   "outputs": [
    {
     "data": {
      "text/plain": [
       "tensor([[1.0000, 0.0000, 0.0000, 0.0000, 0.0000, 0.0000, 0.0000, 0.0000],\n",
       "        [0.4852, 0.5148, 0.0000, 0.0000, 0.0000, 0.0000, 0.0000, 0.0000],\n",
       "        [0.3242, 0.3345, 0.3413, 0.0000, 0.0000, 0.0000, 0.0000, 0.0000],\n",
       "        [0.2428, 0.2597, 0.2434, 0.2541, 0.0000, 0.0000, 0.0000, 0.0000],\n",
       "        [0.1960, 0.2043, 0.1992, 0.2105, 0.1899, 0.0000, 0.0000, 0.0000],\n",
       "        [0.1586, 0.1804, 0.1706, 0.1790, 0.1493, 0.1622, 0.0000, 0.0000],\n",
       "        [0.1395, 0.1417, 0.1422, 0.1456, 0.1337, 0.1410, 0.1563, 0.0000],\n",
       "        [0.1203, 0.1272, 0.1256, 0.1299, 0.1166, 0.1240, 0.1248, 0.1316]],\n",
       "       grad_fn=<SelectBackward0>)"
      ]
     },
     "execution_count": 103,
     "metadata": {},
     "output_type": "execute_result"
    }
   ],
   "source": [
    "wei[0]"
   ]
  },
  {
   "cell_type": "code",
   "execution_count": 105,
   "id": "3e71c577",
   "metadata": {},
   "outputs": [],
   "source": [
    "class LayerNorm:\n",
    "    \n",
    "    def __init__(self, dim, eps=1e-5):\n",
    "        self.eps = eps\n",
    "        # params (trained with backprop)\n",
    "        self.gamma = torch.ones(dim) # y = BN(gamma) + beta\n",
    "        self.beta = torch.zeros(dim)\n",
    "        \n",
    "    def __call__(self, x):\n",
    "        # calc the forward pass\n",
    "        xmean = x.mean(1,keepdim=True) # batch mean\n",
    "        xvar = x.var(1,keepdim=True) # batch variance\n",
    "        xhat = (x-xmean)/torch.sqrt(xvar-self.eps) # normalize to unit variance\n",
    "        self.out = self.gamma * xhat + self.beta # y = BN*gamma + beta\n",
    "        return self.out\n",
    "    \n",
    "    def parameters(self):\n",
    "        return [self.gamma, self.beta]\n",
    "    \n"
   ]
  },
  {
   "cell_type": "code",
   "execution_count": null,
   "id": "68b7411b",
   "metadata": {},
   "outputs": [],
   "source": []
  }
 ],
 "metadata": {
  "kernelspec": {
   "display_name": "Python 3 (ipykernel)",
   "language": "python",
   "name": "python3"
  },
  "language_info": {
   "codemirror_mode": {
    "name": "ipython",
    "version": 3
   },
   "file_extension": ".py",
   "mimetype": "text/x-python",
   "name": "python",
   "nbconvert_exporter": "python",
   "pygments_lexer": "ipython3",
   "version": "3.9.6"
  }
 },
 "nbformat": 4,
 "nbformat_minor": 5
}
