{
 "cells": [
  {
   "cell_type": "code",
   "execution_count": 1,
   "id": "a982357b",
   "metadata": {},
   "outputs": [],
   "source": [
    "words = open('names.txt','r').read().splitlines()"
   ]
  },
  {
   "cell_type": "code",
   "execution_count": 2,
   "id": "917c8c70",
   "metadata": {},
   "outputs": [
    {
     "data": {
      "text/plain": [
       "['emma',\n",
       " 'olivia',\n",
       " 'ava',\n",
       " 'isabella',\n",
       " 'sophia',\n",
       " 'charlotte',\n",
       " 'mia',\n",
       " 'amelia',\n",
       " 'harper',\n",
       " 'evelyn']"
      ]
     },
     "execution_count": 2,
     "metadata": {},
     "output_type": "execute_result"
    }
   ],
   "source": [
    "words[:10]"
   ]
  },
  {
   "cell_type": "code",
   "execution_count": 3,
   "id": "dae9fe08",
   "metadata": {},
   "outputs": [
    {
     "data": {
      "text/plain": [
       "32033"
      ]
     },
     "execution_count": 3,
     "metadata": {},
     "output_type": "execute_result"
    }
   ],
   "source": [
    "len(words)"
   ]
  },
  {
   "cell_type": "code",
   "execution_count": 4,
   "id": "2240f147",
   "metadata": {},
   "outputs": [
    {
     "data": {
      "text/plain": [
       "2"
      ]
     },
     "execution_count": 4,
     "metadata": {},
     "output_type": "execute_result"
    }
   ],
   "source": [
    "min(len(w) for w in words)"
   ]
  },
  {
   "cell_type": "code",
   "execution_count": 5,
   "id": "5ead72da",
   "metadata": {},
   "outputs": [
    {
     "data": {
      "text/plain": [
       "15"
      ]
     },
     "execution_count": 5,
     "metadata": {},
     "output_type": "execute_result"
    }
   ],
   "source": [
    "max(len(w) for w in words)"
   ]
  },
  {
   "cell_type": "code",
   "execution_count": 6,
   "id": "64101aa8",
   "metadata": {},
   "outputs": [],
   "source": [
    "# start looking at bigrams, just count how many times these occur\n",
    "b = {} # storing bigram counts\n",
    "for w in words:\n",
    "    chs = ['<S>'] + list(w) + ['<E>']\n",
    "    for ch1,ch2 in zip(chs,chs[1:]): # only runs to length of smaller zipped thing\n",
    "        bigram = (ch1,ch2)\n",
    "        b[bigram] = b.get(bigram,0) + 1"
   ]
  },
  {
   "cell_type": "code",
   "execution_count": 7,
   "id": "f6a30dc2",
   "metadata": {},
   "outputs": [
    {
     "data": {
      "text/plain": [
       "[(('n', '<E>'), 6763),\n",
       " (('a', '<E>'), 6640),\n",
       " (('a', 'n'), 5438),\n",
       " (('<S>', 'a'), 4410),\n",
       " (('e', '<E>'), 3983),\n",
       " (('a', 'r'), 3264),\n",
       " (('e', 'l'), 3248),\n",
       " (('r', 'i'), 3033),\n",
       " (('n', 'a'), 2977),\n",
       " (('<S>', 'k'), 2963),\n",
       " (('l', 'e'), 2921),\n",
       " (('e', 'n'), 2675),\n",
       " (('l', 'a'), 2623),\n",
       " (('m', 'a'), 2590),\n",
       " (('<S>', 'm'), 2538),\n",
       " (('a', 'l'), 2528),\n",
       " (('i', '<E>'), 2489),\n",
       " (('l', 'i'), 2480),\n",
       " (('i', 'a'), 2445),\n",
       " (('<S>', 'j'), 2422),\n",
       " (('o', 'n'), 2411),\n",
       " (('h', '<E>'), 2409),\n",
       " (('r', 'a'), 2356),\n",
       " (('a', 'h'), 2332),\n",
       " (('h', 'a'), 2244),\n",
       " (('y', 'a'), 2143),\n",
       " (('i', 'n'), 2126),\n",
       " (('<S>', 's'), 2055),\n",
       " (('a', 'y'), 2050),\n",
       " (('y', '<E>'), 2007),\n",
       " (('e', 'r'), 1958),\n",
       " (('n', 'n'), 1906),\n",
       " (('y', 'n'), 1826),\n",
       " (('k', 'a'), 1731),\n",
       " (('n', 'i'), 1725),\n",
       " (('r', 'e'), 1697),\n",
       " (('<S>', 'd'), 1690),\n",
       " (('i', 'e'), 1653),\n",
       " (('a', 'i'), 1650),\n",
       " (('<S>', 'r'), 1639),\n",
       " (('a', 'm'), 1634),\n",
       " (('l', 'y'), 1588),\n",
       " (('<S>', 'l'), 1572),\n",
       " (('<S>', 'c'), 1542),\n",
       " (('<S>', 'e'), 1531),\n",
       " (('j', 'a'), 1473),\n",
       " (('r', '<E>'), 1377),\n",
       " (('n', 'e'), 1359),\n",
       " (('l', 'l'), 1345),\n",
       " (('i', 'l'), 1345),\n",
       " (('i', 's'), 1316),\n",
       " (('l', '<E>'), 1314),\n",
       " (('<S>', 't'), 1308),\n",
       " (('<S>', 'b'), 1306),\n",
       " (('d', 'a'), 1303),\n",
       " (('s', 'h'), 1285),\n",
       " (('d', 'e'), 1283),\n",
       " (('e', 'e'), 1271),\n",
       " (('m', 'i'), 1256),\n",
       " (('s', 'a'), 1201),\n",
       " (('s', '<E>'), 1169),\n",
       " (('<S>', 'n'), 1146),\n",
       " (('a', 's'), 1118),\n",
       " (('y', 'l'), 1104),\n",
       " (('e', 'y'), 1070),\n",
       " (('o', 'r'), 1059),\n",
       " (('a', 'd'), 1042),\n",
       " (('t', 'a'), 1027),\n",
       " (('<S>', 'z'), 929),\n",
       " (('v', 'i'), 911),\n",
       " (('k', 'e'), 895),\n",
       " (('s', 'e'), 884),\n",
       " (('<S>', 'h'), 874),\n",
       " (('r', 'o'), 869),\n",
       " (('e', 's'), 861),\n",
       " (('z', 'a'), 860),\n",
       " (('o', '<E>'), 855),\n",
       " (('i', 'r'), 849),\n",
       " (('b', 'r'), 842),\n",
       " (('a', 'v'), 834),\n",
       " (('m', 'e'), 818),\n",
       " (('e', 'i'), 818),\n",
       " (('c', 'a'), 815),\n",
       " (('i', 'y'), 779),\n",
       " (('r', 'y'), 773),\n",
       " (('e', 'm'), 769),\n",
       " (('s', 't'), 765),\n",
       " (('h', 'i'), 729),\n",
       " (('t', 'e'), 716),\n",
       " (('n', 'd'), 704),\n",
       " (('l', 'o'), 692),\n",
       " (('a', 'e'), 692),\n",
       " (('a', 't'), 687),\n",
       " (('s', 'i'), 684),\n",
       " (('e', 'a'), 679),\n",
       " (('d', 'i'), 674),\n",
       " (('h', 'e'), 674),\n",
       " (('<S>', 'g'), 669),\n",
       " (('t', 'o'), 667),\n",
       " (('c', 'h'), 664),\n",
       " (('b', 'e'), 655),\n",
       " (('t', 'h'), 647),\n",
       " (('v', 'a'), 642),\n",
       " (('o', 'l'), 619),\n",
       " (('<S>', 'i'), 591),\n",
       " (('i', 'o'), 588),\n",
       " (('e', 't'), 580),\n",
       " (('v', 'e'), 568),\n",
       " (('a', 'k'), 568),\n",
       " (('a', 'a'), 556),\n",
       " (('c', 'e'), 551),\n",
       " (('a', 'b'), 541),\n",
       " (('i', 't'), 541),\n",
       " (('<S>', 'y'), 535),\n",
       " (('t', 'i'), 532),\n",
       " (('s', 'o'), 531),\n",
       " (('m', '<E>'), 516),\n",
       " (('d', '<E>'), 516),\n",
       " (('<S>', 'p'), 515),\n",
       " (('i', 'c'), 509),\n",
       " (('k', 'i'), 509),\n",
       " (('o', 's'), 504),\n",
       " (('n', 'o'), 496),\n",
       " (('t', '<E>'), 483),\n",
       " (('j', 'o'), 479),\n",
       " (('u', 's'), 474),\n",
       " (('a', 'c'), 470),\n",
       " (('n', 'y'), 465),\n",
       " (('e', 'v'), 463),\n",
       " (('s', 's'), 461),\n",
       " (('m', 'o'), 452),\n",
       " (('i', 'k'), 445),\n",
       " (('n', 't'), 443),\n",
       " (('i', 'd'), 440),\n",
       " (('j', 'e'), 440),\n",
       " (('a', 'z'), 435),\n",
       " (('i', 'g'), 428),\n",
       " (('i', 'm'), 427),\n",
       " (('r', 'r'), 425),\n",
       " (('d', 'r'), 424),\n",
       " (('<S>', 'f'), 417),\n",
       " (('u', 'r'), 414),\n",
       " (('r', 'l'), 413),\n",
       " (('y', 's'), 401),\n",
       " (('<S>', 'o'), 394),\n",
       " (('e', 'd'), 384),\n",
       " (('a', 'u'), 381),\n",
       " (('c', 'o'), 380),\n",
       " (('k', 'y'), 379),\n",
       " (('d', 'o'), 378),\n",
       " (('<S>', 'v'), 376),\n",
       " (('t', 't'), 374),\n",
       " (('z', 'e'), 373),\n",
       " (('z', 'i'), 364),\n",
       " (('k', '<E>'), 363),\n",
       " (('g', 'h'), 360),\n",
       " (('t', 'r'), 352),\n",
       " (('k', 'o'), 344),\n",
       " (('t', 'y'), 341),\n",
       " (('g', 'e'), 334),\n",
       " (('g', 'a'), 330),\n",
       " (('l', 'u'), 324),\n",
       " (('b', 'a'), 321),\n",
       " (('d', 'y'), 317),\n",
       " (('c', 'k'), 316),\n",
       " (('<S>', 'w'), 307),\n",
       " (('k', 'h'), 307),\n",
       " (('u', 'l'), 301),\n",
       " (('y', 'e'), 301),\n",
       " (('y', 'r'), 291),\n",
       " (('m', 'y'), 287),\n",
       " (('h', 'o'), 287),\n",
       " (('w', 'a'), 280),\n",
       " (('s', 'l'), 279),\n",
       " (('n', 's'), 278),\n",
       " (('i', 'z'), 277),\n",
       " (('u', 'n'), 275),\n",
       " (('o', 'u'), 275),\n",
       " (('n', 'g'), 273),\n",
       " (('y', 'd'), 272),\n",
       " (('c', 'i'), 271),\n",
       " (('y', 'o'), 271),\n",
       " (('i', 'v'), 269),\n",
       " (('e', 'o'), 269),\n",
       " (('o', 'm'), 261),\n",
       " (('r', 'u'), 252),\n",
       " (('f', 'a'), 242),\n",
       " (('b', 'i'), 217),\n",
       " (('s', 'y'), 215),\n",
       " (('n', 'c'), 213),\n",
       " (('h', 'y'), 213),\n",
       " (('p', 'a'), 209),\n",
       " (('r', 't'), 208),\n",
       " (('q', 'u'), 206),\n",
       " (('p', 'h'), 204),\n",
       " (('h', 'r'), 204),\n",
       " (('j', 'u'), 202),\n",
       " (('g', 'r'), 201),\n",
       " (('p', 'e'), 197),\n",
       " (('n', 'l'), 195),\n",
       " (('y', 'i'), 192),\n",
       " (('g', 'i'), 190),\n",
       " (('o', 'd'), 190),\n",
       " (('r', 's'), 190),\n",
       " (('r', 'd'), 187),\n",
       " (('h', 'l'), 185),\n",
       " (('s', 'u'), 185),\n",
       " (('a', 'x'), 182),\n",
       " (('e', 'z'), 181),\n",
       " (('e', 'k'), 178),\n",
       " (('o', 'v'), 176),\n",
       " (('a', 'j'), 175),\n",
       " (('o', 'h'), 171),\n",
       " (('u', 'e'), 169),\n",
       " (('m', 'm'), 168),\n",
       " (('a', 'g'), 168),\n",
       " (('h', 'u'), 166),\n",
       " (('x', '<E>'), 164),\n",
       " (('u', 'a'), 163),\n",
       " (('r', 'm'), 162),\n",
       " (('a', 'w'), 161),\n",
       " (('f', 'i'), 160),\n",
       " (('z', '<E>'), 160),\n",
       " (('u', '<E>'), 155),\n",
       " (('u', 'm'), 154),\n",
       " (('e', 'c'), 153),\n",
       " (('v', 'o'), 153),\n",
       " (('e', 'h'), 152),\n",
       " (('p', 'r'), 151),\n",
       " (('d', 'd'), 149),\n",
       " (('o', 'a'), 149),\n",
       " (('w', 'e'), 149),\n",
       " (('w', 'i'), 148),\n",
       " (('y', 'm'), 148),\n",
       " (('z', 'y'), 147),\n",
       " (('n', 'z'), 145),\n",
       " (('y', 'u'), 141),\n",
       " (('r', 'n'), 140),\n",
       " (('o', 'b'), 140),\n",
       " (('k', 'l'), 139),\n",
       " (('m', 'u'), 139),\n",
       " (('l', 'd'), 138),\n",
       " (('h', 'n'), 138),\n",
       " (('u', 'd'), 136),\n",
       " (('<S>', 'x'), 134),\n",
       " (('t', 'l'), 134),\n",
       " (('a', 'f'), 134),\n",
       " (('o', 'e'), 132),\n",
       " (('e', 'x'), 132),\n",
       " (('e', 'g'), 125),\n",
       " (('f', 'e'), 123),\n",
       " (('z', 'l'), 123),\n",
       " (('u', 'i'), 121),\n",
       " (('v', 'y'), 121),\n",
       " (('e', 'b'), 121),\n",
       " (('r', 'h'), 121),\n",
       " (('j', 'i'), 119),\n",
       " (('o', 't'), 118),\n",
       " (('d', 'h'), 118),\n",
       " (('h', 'm'), 117),\n",
       " (('c', 'l'), 116),\n",
       " (('o', 'o'), 115),\n",
       " (('y', 'c'), 115),\n",
       " (('o', 'w'), 114),\n",
       " (('o', 'c'), 114),\n",
       " (('f', 'r'), 114),\n",
       " (('b', '<E>'), 114),\n",
       " (('m', 'b'), 112),\n",
       " (('z', 'o'), 110),\n",
       " (('i', 'b'), 110),\n",
       " (('i', 'u'), 109),\n",
       " (('k', 'r'), 109),\n",
       " (('g', '<E>'), 108),\n",
       " (('y', 'v'), 106),\n",
       " (('t', 'z'), 105),\n",
       " (('b', 'o'), 105),\n",
       " (('c', 'y'), 104),\n",
       " (('y', 't'), 104),\n",
       " (('u', 'b'), 103),\n",
       " (('u', 'c'), 103),\n",
       " (('x', 'a'), 103),\n",
       " (('b', 'l'), 103),\n",
       " (('o', 'y'), 103),\n",
       " (('x', 'i'), 102),\n",
       " (('i', 'f'), 101),\n",
       " (('r', 'c'), 99),\n",
       " (('c', '<E>'), 97),\n",
       " (('m', 'r'), 97),\n",
       " (('n', 'u'), 96),\n",
       " (('o', 'p'), 95),\n",
       " (('i', 'h'), 95),\n",
       " (('k', 's'), 95),\n",
       " (('l', 's'), 94),\n",
       " (('u', 'k'), 93),\n",
       " (('<S>', 'q'), 92),\n",
       " (('d', 'u'), 92),\n",
       " (('s', 'm'), 90),\n",
       " (('r', 'k'), 90),\n",
       " (('i', 'x'), 89),\n",
       " (('v', '<E>'), 88),\n",
       " (('y', 'k'), 86),\n",
       " (('u', 'w'), 86),\n",
       " (('g', 'u'), 85),\n",
       " (('b', 'y'), 83),\n",
       " (('e', 'p'), 83),\n",
       " (('g', 'o'), 83),\n",
       " (('s', 'k'), 82),\n",
       " (('u', 't'), 82),\n",
       " (('a', 'p'), 82),\n",
       " (('e', 'f'), 82),\n",
       " (('i', 'i'), 82),\n",
       " (('r', 'v'), 80),\n",
       " (('f', '<E>'), 80),\n",
       " (('t', 'u'), 78),\n",
       " (('y', 'z'), 78),\n",
       " (('<S>', 'u'), 78),\n",
       " (('l', 't'), 77),\n",
       " (('r', 'g'), 76),\n",
       " (('c', 'r'), 76),\n",
       " (('i', 'j'), 76),\n",
       " (('w', 'y'), 73),\n",
       " (('z', 'u'), 73),\n",
       " (('l', 'v'), 72),\n",
       " (('h', 't'), 71),\n",
       " (('j', '<E>'), 71),\n",
       " (('x', 't'), 70),\n",
       " (('o', 'i'), 69),\n",
       " (('e', 'u'), 69),\n",
       " (('o', 'k'), 68),\n",
       " (('b', 'd'), 65),\n",
       " (('a', 'o'), 63),\n",
       " (('p', 'i'), 61),\n",
       " (('s', 'c'), 60),\n",
       " (('d', 'l'), 60),\n",
       " (('l', 'm'), 60),\n",
       " (('a', 'q'), 60),\n",
       " (('f', 'o'), 60),\n",
       " (('p', 'o'), 59),\n",
       " (('n', 'k'), 58),\n",
       " (('w', 'n'), 58),\n",
       " (('u', 'h'), 58),\n",
       " (('e', 'j'), 55),\n",
       " (('n', 'v'), 55),\n",
       " (('s', 'r'), 55),\n",
       " (('o', 'z'), 54),\n",
       " (('i', 'p'), 53),\n",
       " (('l', 'b'), 52),\n",
       " (('i', 'q'), 52),\n",
       " (('w', '<E>'), 51),\n",
       " (('m', 'c'), 51),\n",
       " (('s', 'p'), 51),\n",
       " (('e', 'w'), 50),\n",
       " (('k', 'u'), 50),\n",
       " (('v', 'r'), 48),\n",
       " (('u', 'g'), 47),\n",
       " (('o', 'x'), 45),\n",
       " (('u', 'z'), 45),\n",
       " (('z', 'z'), 45),\n",
       " (('j', 'h'), 45),\n",
       " (('b', 'u'), 45),\n",
       " (('o', 'g'), 44),\n",
       " (('n', 'r'), 44),\n",
       " (('f', 'f'), 44),\n",
       " (('n', 'j'), 44),\n",
       " (('z', 'h'), 43),\n",
       " (('c', 'c'), 42),\n",
       " (('r', 'b'), 41),\n",
       " (('x', 'o'), 41),\n",
       " (('b', 'h'), 41),\n",
       " (('p', 'p'), 39),\n",
       " (('x', 'l'), 39),\n",
       " (('h', 'v'), 39),\n",
       " (('b', 'b'), 38),\n",
       " (('m', 'p'), 38),\n",
       " (('x', 'x'), 38),\n",
       " (('u', 'v'), 37),\n",
       " (('x', 'e'), 36),\n",
       " (('w', 'o'), 36),\n",
       " (('c', 't'), 35),\n",
       " (('z', 'm'), 35),\n",
       " (('t', 's'), 35),\n",
       " (('m', 's'), 35),\n",
       " (('c', 'u'), 35),\n",
       " (('o', 'f'), 34),\n",
       " (('u', 'x'), 34),\n",
       " (('k', 'w'), 34),\n",
       " (('p', '<E>'), 33),\n",
       " (('g', 'l'), 32),\n",
       " (('z', 'r'), 32),\n",
       " (('d', 'n'), 31),\n",
       " (('g', 't'), 31),\n",
       " (('g', 'y'), 31),\n",
       " (('h', 's'), 31),\n",
       " (('x', 's'), 31),\n",
       " (('g', 's'), 30),\n",
       " (('x', 'y'), 30),\n",
       " (('y', 'g'), 30),\n",
       " (('d', 'm'), 30),\n",
       " (('d', 's'), 29),\n",
       " (('h', 'k'), 29),\n",
       " (('y', 'x'), 28),\n",
       " (('q', '<E>'), 28),\n",
       " (('g', 'n'), 27),\n",
       " (('y', 'b'), 27),\n",
       " (('g', 'w'), 26),\n",
       " (('n', 'h'), 26),\n",
       " (('k', 'n'), 26),\n",
       " (('g', 'g'), 25),\n",
       " (('d', 'g'), 25),\n",
       " (('l', 'c'), 25),\n",
       " (('r', 'j'), 25),\n",
       " (('w', 'u'), 25),\n",
       " (('l', 'k'), 24),\n",
       " (('m', 'd'), 24),\n",
       " (('s', 'w'), 24),\n",
       " (('s', 'n'), 24),\n",
       " (('h', 'd'), 24),\n",
       " (('w', 'h'), 23),\n",
       " (('y', 'j'), 23),\n",
       " (('y', 'y'), 23),\n",
       " (('r', 'z'), 23),\n",
       " (('d', 'w'), 23),\n",
       " (('w', 'r'), 22),\n",
       " (('t', 'n'), 22),\n",
       " (('l', 'f'), 22),\n",
       " (('y', 'h'), 22),\n",
       " (('r', 'w'), 21),\n",
       " (('s', 'b'), 21),\n",
       " (('m', 'n'), 20),\n",
       " (('f', 'l'), 20),\n",
       " (('w', 's'), 20),\n",
       " (('k', 'k'), 20),\n",
       " (('h', 'z'), 20),\n",
       " (('g', 'd'), 19),\n",
       " (('l', 'h'), 19),\n",
       " (('n', 'm'), 19),\n",
       " (('x', 'z'), 19),\n",
       " (('u', 'f'), 19),\n",
       " (('f', 't'), 18),\n",
       " (('l', 'r'), 18),\n",
       " (('p', 't'), 17),\n",
       " (('t', 'c'), 17),\n",
       " (('k', 't'), 17),\n",
       " (('d', 'v'), 17),\n",
       " (('u', 'p'), 16),\n",
       " (('p', 'l'), 16),\n",
       " (('l', 'w'), 16),\n",
       " (('p', 's'), 16),\n",
       " (('o', 'j'), 16),\n",
       " (('r', 'q'), 16),\n",
       " (('y', 'p'), 15),\n",
       " (('l', 'p'), 15),\n",
       " (('t', 'v'), 15),\n",
       " (('r', 'p'), 14),\n",
       " (('l', 'n'), 14),\n",
       " (('e', 'q'), 14),\n",
       " (('f', 'y'), 14),\n",
       " (('s', 'v'), 14),\n",
       " (('u', 'j'), 14),\n",
       " (('v', 'l'), 14),\n",
       " (('q', 'a'), 13),\n",
       " (('u', 'y'), 13),\n",
       " (('q', 'i'), 13),\n",
       " (('w', 'l'), 13),\n",
       " (('p', 'y'), 12),\n",
       " (('y', 'f'), 12),\n",
       " (('c', 'q'), 11),\n",
       " (('j', 'r'), 11),\n",
       " (('n', 'w'), 11),\n",
       " (('n', 'f'), 11),\n",
       " (('t', 'w'), 11),\n",
       " (('m', 'z'), 11),\n",
       " (('u', 'o'), 10),\n",
       " (('f', 'u'), 10),\n",
       " (('l', 'z'), 10),\n",
       " (('h', 'w'), 10),\n",
       " (('u', 'q'), 10),\n",
       " (('j', 'y'), 10),\n",
       " (('s', 'z'), 10),\n",
       " (('s', 'd'), 9),\n",
       " (('j', 'l'), 9),\n",
       " (('d', 'j'), 9),\n",
       " (('k', 'm'), 9),\n",
       " (('r', 'f'), 9),\n",
       " (('h', 'j'), 9),\n",
       " (('v', 'n'), 8),\n",
       " (('n', 'b'), 8),\n",
       " (('i', 'w'), 8),\n",
       " (('h', 'b'), 8),\n",
       " (('b', 's'), 8),\n",
       " (('w', 't'), 8),\n",
       " (('w', 'd'), 8),\n",
       " (('v', 'v'), 7),\n",
       " (('v', 'u'), 7),\n",
       " (('j', 's'), 7),\n",
       " (('m', 'j'), 7),\n",
       " (('f', 's'), 6),\n",
       " (('l', 'g'), 6),\n",
       " (('l', 'j'), 6),\n",
       " (('j', 'w'), 6),\n",
       " (('n', 'x'), 6),\n",
       " (('y', 'q'), 6),\n",
       " (('w', 'k'), 6),\n",
       " (('g', 'm'), 6),\n",
       " (('x', 'u'), 5),\n",
       " (('m', 'h'), 5),\n",
       " (('m', 'l'), 5),\n",
       " (('j', 'm'), 5),\n",
       " (('c', 's'), 5),\n",
       " (('j', 'v'), 5),\n",
       " (('n', 'p'), 5),\n",
       " (('d', 'f'), 5),\n",
       " (('x', 'd'), 5),\n",
       " (('z', 'b'), 4),\n",
       " (('f', 'n'), 4),\n",
       " (('x', 'c'), 4),\n",
       " (('m', 't'), 4),\n",
       " (('t', 'm'), 4),\n",
       " (('z', 'n'), 4),\n",
       " (('z', 't'), 4),\n",
       " (('p', 'u'), 4),\n",
       " (('c', 'z'), 4),\n",
       " (('b', 'n'), 4),\n",
       " (('z', 's'), 4),\n",
       " (('f', 'w'), 4),\n",
       " (('d', 't'), 4),\n",
       " (('j', 'd'), 4),\n",
       " (('j', 'c'), 4),\n",
       " (('y', 'w'), 4),\n",
       " (('v', 'k'), 3),\n",
       " (('x', 'w'), 3),\n",
       " (('t', 'j'), 3),\n",
       " (('c', 'j'), 3),\n",
       " (('q', 'w'), 3),\n",
       " (('g', 'b'), 3),\n",
       " (('o', 'q'), 3),\n",
       " (('r', 'x'), 3),\n",
       " (('d', 'c'), 3),\n",
       " (('g', 'j'), 3),\n",
       " (('x', 'f'), 3),\n",
       " (('z', 'w'), 3),\n",
       " (('d', 'k'), 3),\n",
       " (('u', 'u'), 3),\n",
       " (('m', 'v'), 3),\n",
       " (('c', 'x'), 3),\n",
       " (('l', 'q'), 3),\n",
       " (('p', 'b'), 2),\n",
       " (('t', 'g'), 2),\n",
       " (('q', 's'), 2),\n",
       " (('t', 'x'), 2),\n",
       " (('f', 'k'), 2),\n",
       " (('b', 't'), 2),\n",
       " (('j', 'n'), 2),\n",
       " (('k', 'c'), 2),\n",
       " (('z', 'k'), 2),\n",
       " (('s', 'j'), 2),\n",
       " (('s', 'f'), 2),\n",
       " (('z', 'j'), 2),\n",
       " (('n', 'q'), 2),\n",
       " (('f', 'z'), 2),\n",
       " (('h', 'g'), 2),\n",
       " (('w', 'w'), 2),\n",
       " (('k', 'j'), 2),\n",
       " (('j', 'k'), 2),\n",
       " (('w', 'm'), 2),\n",
       " (('z', 'c'), 2),\n",
       " (('z', 'v'), 2),\n",
       " (('w', 'f'), 2),\n",
       " (('q', 'm'), 2),\n",
       " (('k', 'z'), 2),\n",
       " (('j', 'j'), 2),\n",
       " (('z', 'p'), 2),\n",
       " (('j', 't'), 2),\n",
       " (('k', 'b'), 2),\n",
       " (('m', 'w'), 2),\n",
       " (('h', 'f'), 2),\n",
       " (('c', 'g'), 2),\n",
       " (('t', 'f'), 2),\n",
       " (('h', 'c'), 2),\n",
       " (('q', 'o'), 2),\n",
       " (('k', 'd'), 2),\n",
       " (('k', 'v'), 2),\n",
       " (('s', 'g'), 2),\n",
       " (('z', 'd'), 2),\n",
       " (('q', 'r'), 1),\n",
       " (('d', 'z'), 1),\n",
       " (('p', 'j'), 1),\n",
       " (('q', 'l'), 1),\n",
       " (('p', 'f'), 1),\n",
       " (('q', 'e'), 1),\n",
       " (('b', 'c'), 1),\n",
       " (('c', 'd'), 1),\n",
       " (('m', 'f'), 1),\n",
       " (('p', 'n'), 1),\n",
       " (('w', 'b'), 1),\n",
       " (('p', 'c'), 1),\n",
       " (('h', 'p'), 1),\n",
       " (('f', 'h'), 1),\n",
       " (('b', 'j'), 1),\n",
       " (('f', 'g'), 1),\n",
       " (('z', 'g'), 1),\n",
       " (('c', 'p'), 1),\n",
       " (('p', 'k'), 1),\n",
       " (('p', 'm'), 1),\n",
       " (('x', 'n'), 1),\n",
       " (('s', 'q'), 1),\n",
       " (('k', 'f'), 1),\n",
       " (('m', 'k'), 1),\n",
       " (('x', 'h'), 1),\n",
       " (('g', 'f'), 1),\n",
       " (('v', 'b'), 1),\n",
       " (('j', 'p'), 1),\n",
       " (('g', 'z'), 1),\n",
       " (('v', 'd'), 1),\n",
       " (('d', 'b'), 1),\n",
       " (('v', 'h'), 1),\n",
       " (('h', 'h'), 1),\n",
       " (('g', 'v'), 1),\n",
       " (('d', 'q'), 1),\n",
       " (('x', 'b'), 1),\n",
       " (('w', 'z'), 1),\n",
       " (('h', 'q'), 1),\n",
       " (('j', 'b'), 1),\n",
       " (('x', 'm'), 1),\n",
       " (('w', 'g'), 1),\n",
       " (('t', 'b'), 1),\n",
       " (('z', 'x'), 1)]"
      ]
     },
     "execution_count": 7,
     "metadata": {},
     "output_type": "execute_result"
    }
   ],
   "source": [
    "sorted(b.items(), key=lambda kv:-kv[1])"
   ]
  },
  {
   "cell_type": "code",
   "execution_count": 8,
   "id": "5460421c",
   "metadata": {},
   "outputs": [],
   "source": [
    "# represent this as 2d array with row as first char and col as second "
   ]
  },
  {
   "cell_type": "code",
   "execution_count": 9,
   "id": "3e0582c1",
   "metadata": {},
   "outputs": [],
   "source": [
    "import torch"
   ]
  },
  {
   "cell_type": "code",
   "execution_count": 10,
   "id": "0a5f60a7",
   "metadata": {},
   "outputs": [],
   "source": [
    "N = torch.zeros((27,27),dtype=torch.int32)"
   ]
  },
  {
   "cell_type": "code",
   "execution_count": 11,
   "id": "697105c7",
   "metadata": {},
   "outputs": [
    {
     "name": "stdout",
     "output_type": "stream",
     "text": [
      "{1: 'a', 2: 'b', 3: 'c', 4: 'd', 5: 'e', 6: 'f', 7: 'g', 8: 'h', 9: 'i', 10: 'j', 11: 'k', 12: 'l', 13: 'm', 14: 'n', 15: 'o', 16: 'p', 17: 'q', 18: 'r', 19: 's', 20: 't', 21: 'u', 22: 'v', 23: 'w', 24: 'x', 25: 'y', 26: 'z', 0: '.'}\n"
     ]
    }
   ],
   "source": [
    "chars = sorted(list(set(''.join(words))))\n",
    "stoi = {s:i+1 for i,s in enumerate(chars)}\n",
    "stoi['.']=0\n",
    "itos = {i:s for s,i in stoi.items()}\n",
    "print(itos)"
   ]
  },
  {
   "cell_type": "code",
   "execution_count": 12,
   "id": "bc919eee",
   "metadata": {},
   "outputs": [],
   "source": [
    "for w in words:\n",
    "    chs = ['.'] + list(w) + ['.']\n",
    "    for ch1,ch2 in zip(chs,chs[1:]): # only runs to length of smaller zipped thing\n",
    "        ix1,ix2 = stoi[ch1],stoi[ch2]\n",
    "        N[ix1,ix2]+=1\n",
    "        "
   ]
  },
  {
   "cell_type": "code",
   "execution_count": 13,
   "id": "a9422bea",
   "metadata": {},
   "outputs": [
    {
     "data": {
      "text/plain": [
       "<matplotlib.image.AxesImage at 0x12f215d30>"
      ]
     },
     "execution_count": 13,
     "metadata": {},
     "output_type": "execute_result"
    },
    {
     "data": {
      "image/png": "[encoded data removed]",
      "text/plain": [
       "<Figure size 640x480 with 1 Axes>"
      ]
     },
     "metadata": {},
     "output_type": "display_data"
    }
   ],
   "source": [
    "import matplotlib.pyplot as plt\n",
    "%matplotlib inline\n",
    "plt.imshow(N)"
   ]
  },
  {
   "cell_type": "code",
   "execution_count": 14,
   "id": "7137a841",
   "metadata": {
    "scrolled": true
   },
   "outputs": [
    {
     "data": {
      "text/plain": [
       "(-0.5, 26.5, 26.5, -0.5)"
      ]
     },
     "execution_count": 14,
     "metadata": {},
     "output_type": "execute_result"
    }
   ],
   "source": [
    "plt.figure(figsize=(16,16))\n",
    "plt.imshow(N,cmap='Blues')\n",
    "for i in range(27):\n",
    "    for j in range(27):\n",
    "        chstr = itos[i]+itos[j]\n",
    "        plt.text(j,i,chstr, ha='center', va='bottom',color='gray')\n",
    "        plt.text(j,i,N[i,j].item(), ha='center',va='top',color='gray')\n",
    "plt.axis('off')"
   ]
  },
  {
   "cell_type": "code",
   "execution_count": 15,
   "id": "a19f99cb",
   "metadata": {},
   "outputs": [
    {
     "data": {
      "text/plain": [
       "tensor([   0, 4410, 1306, 1542, 1690, 1531,  417,  669,  874,  591, 2422, 2963,\n",
       "        1572, 2538, 1146,  394,  515,   92, 1639, 2055, 1308,   78,  376,  307,\n",
       "         134,  535,  929], dtype=torch.int32)"
      ]
     },
     "execution_count": 15,
     "metadata": {},
     "output_type": "execute_result"
    }
   ],
   "source": [
    "N[0,:] # equiv N[0]"
   ]
  },
  {
   "cell_type": "code",
   "execution_count": 16,
   "id": "a13197c3",
   "metadata": {},
   "outputs": [
    {
     "data": {
      "text/plain": [
       "tensor([0.0000, 0.1377, 0.0408, 0.0481, 0.0528, 0.0478, 0.0130, 0.0209, 0.0273,\n",
       "        0.0184, 0.0756, 0.0925, 0.0491, 0.0792, 0.0358, 0.0123, 0.0161, 0.0029,\n",
       "        0.0512, 0.0642, 0.0408, 0.0024, 0.0117, 0.0096, 0.0042, 0.0167, 0.0290])"
      ]
     },
     "execution_count": 16,
     "metadata": {},
     "output_type": "execute_result"
    }
   ],
   "source": [
    "p = N[0].float()\n",
    "p/=p.sum() # probabilities\n",
    "p"
   ]
  },
  {
   "cell_type": "code",
   "execution_count": 17,
   "id": "3087b217",
   "metadata": {},
   "outputs": [],
   "source": [
    "# samples from the above : use torch.multinomial\n",
    "# make deterministic : use torch.Generator\n",
    "\n",
    "g = torch.Generator().manual_seed(2147483647)\n",
    "# p = torch.rand(3, generator=g)\n",
    "# p/=p.sum()\n",
    "# p\n"
   ]
  },
  {
   "cell_type": "code",
   "execution_count": 18,
   "id": "a154affd",
   "metadata": {},
   "outputs": [
    {
     "data": {
      "text/plain": [
       "'m'"
      ]
     },
     "execution_count": 18,
     "metadata": {},
     "output_type": "execute_result"
    }
   ],
   "source": [
    "g = torch.Generator().manual_seed(2147483647)\n",
    "ix = torch.multinomial(p,num_samples=1, replacement=True, generator=g).item()\n",
    "itos[ix]"
   ]
  },
  {
   "cell_type": "code",
   "execution_count": 19,
   "id": "68fe3500",
   "metadata": {},
   "outputs": [],
   "source": [
    "P = (N+1).float() # model smoothing \n",
    "\n"
   ]
  },
  {
   "cell_type": "code",
   "execution_count": 20,
   "id": "7bc04f81",
   "metadata": {},
   "outputs": [
    {
     "data": {
      "text/plain": [
       "torch.Size([27, 1])"
      ]
     },
     "execution_count": 20,
     "metadata": {},
     "output_type": "execute_result"
    }
   ],
   "source": [
    "P.sum(1,keepdim=True).shape"
   ]
  },
  {
   "cell_type": "code",
   "execution_count": 21,
   "id": "e6875a39",
   "metadata": {
    "scrolled": true
   },
   "outputs": [
    {
     "data": {
      "text/plain": [
       "tensor([[32060., 32060., 32060., 32060., 32060., 32060., 32060., 32060., 32060.,\n",
       "         32060., 32060., 32060., 32060., 32060., 32060., 32060., 32060., 32060.,\n",
       "         32060., 32060., 32060., 32060., 32060., 32060., 32060., 32060., 32060.],\n",
       "        [33912., 33912., 33912., 33912., 33912., 33912., 33912., 33912., 33912.,\n",
       "         33912., 33912., 33912., 33912., 33912., 33912., 33912., 33912., 33912.,\n",
       "         33912., 33912., 33912., 33912., 33912., 33912., 33912., 33912., 33912.],\n",
       "        [ 2672.,  2672.,  2672.,  2672.,  2672.,  2672.,  2672.,  2672.,  2672.,\n",
       "          2672.,  2672.,  2672.,  2672.,  2672.,  2672.,  2672.,  2672.,  2672.,\n",
       "          2672.,  2672.,  2672.,  2672.,  2672.,  2672.,  2672.,  2672.,  2672.],\n",
       "        [ 3559.,  3559.,  3559.,  3559.,  3559.,  3559.,  3559.,  3559.,  3559.,\n",
       "          3559.,  3559.,  3559.,  3559.,  3559.,  3559.,  3559.,  3559.,  3559.,\n",
       "          3559.,  3559.,  3559.,  3559.,  3559.,  3559.,  3559.,  3559.,  3559.],\n",
       "        [ 5523.,  5523.,  5523.,  5523.,  5523.,  5523.,  5523.,  5523.,  5523.,\n",
       "          5523.,  5523.,  5523.,  5523.,  5523.,  5523.,  5523.,  5523.,  5523.,\n",
       "          5523.,  5523.,  5523.,  5523.,  5523.,  5523.,  5523.,  5523.,  5523.],\n",
       "        [20450., 20450., 20450., 20450., 20450., 20450., 20450., 20450., 20450.,\n",
       "         20450., 20450., 20450., 20450., 20450., 20450., 20450., 20450., 20450.,\n",
       "         20450., 20450., 20450., 20450., 20450., 20450., 20450., 20450., 20450.],\n",
       "        [  932.,   932.,   932.,   932.,   932.,   932.,   932.,   932.,   932.,\n",
       "           932.,   932.,   932.,   932.,   932.,   932.,   932.,   932.,   932.,\n",
       "           932.,   932.,   932.,   932.,   932.,   932.,   932.,   932.,   932.],\n",
       "        [ 1954.,  1954.,  1954.,  1954.,  1954.,  1954.,  1954.,  1954.,  1954.,\n",
       "          1954.,  1954.,  1954.,  1954.,  1954.,  1954.,  1954.,  1954.,  1954.,\n",
       "          1954.,  1954.,  1954.,  1954.,  1954.,  1954.,  1954.,  1954.,  1954.],\n",
       "        [ 7643.,  7643.,  7643.,  7643.,  7643.,  7643.,  7643.,  7643.,  7643.,\n",
       "          7643.,  7643.,  7643.,  7643.,  7643.,  7643.,  7643.,  7643.,  7643.,\n",
       "          7643.,  7643.,  7643.,  7643.,  7643.,  7643.,  7643.,  7643.,  7643.],\n",
       "        [17728., 17728., 17728., 17728., 17728., 17728., 17728., 17728., 17728.,\n",
       "         17728., 17728., 17728., 17728., 17728., 17728., 17728., 17728., 17728.,\n",
       "         17728., 17728., 17728., 17728., 17728., 17728., 17728., 17728., 17728.],\n",
       "        [ 2927.,  2927.,  2927.,  2927.,  2927.,  2927.,  2927.,  2927.,  2927.,\n",
       "          2927.,  2927.,  2927.,  2927.,  2927.,  2927.,  2927.,  2927.,  2927.,\n",
       "          2927.,  2927.,  2927.,  2927.,  2927.,  2927.,  2927.,  2927.,  2927.],\n",
       "        [ 5067.,  5067.,  5067.,  5067.,  5067.,  5067.,  5067.,  5067.,  5067.,\n",
       "          5067.,  5067.,  5067.,  5067.,  5067.,  5067.,  5067.,  5067.,  5067.,\n",
       "          5067.,  5067.,  5067.,  5067.,  5067.,  5067.,  5067.,  5067.,  5067.],\n",
       "        [13985., 13985., 13985., 13985., 13985., 13985., 13985., 13985., 13985.,\n",
       "         13985., 13985., 13985., 13985., 13985., 13985., 13985., 13985., 13985.,\n",
       "         13985., 13985., 13985., 13985., 13985., 13985., 13985., 13985., 13985.],\n",
       "        [ 6669.,  6669.,  6669.,  6669.,  6669.,  6669.,  6669.,  6669.,  6669.,\n",
       "          6669.,  6669.,  6669.,  6669.,  6669.,  6669.,  6669.,  6669.,  6669.,\n",
       "          6669.,  6669.,  6669.,  6669.,  6669.,  6669.,  6669.,  6669.,  6669.],\n",
       "        [18354., 18354., 18354., 18354., 18354., 18354., 18354., 18354., 18354.,\n",
       "         18354., 18354., 18354., 18354., 18354., 18354., 18354., 18354., 18354.,\n",
       "         18354., 18354., 18354., 18354., 18354., 18354., 18354., 18354., 18354.],\n",
       "        [ 7961.,  7961.,  7961.,  7961.,  7961.,  7961.,  7961.,  7961.,  7961.,\n",
       "          7961.,  7961.,  7961.,  7961.,  7961.,  7961.,  7961.,  7961.,  7961.,\n",
       "          7961.,  7961.,  7961.,  7961.,  7961.,  7961.,  7961.,  7961.,  7961.],\n",
       "        [ 1053.,  1053.,  1053.,  1053.,  1053.,  1053.,  1053.,  1053.,  1053.,\n",
       "          1053.,  1053.,  1053.,  1053.,  1053.,  1053.,  1053.,  1053.,  1053.,\n",
       "          1053.,  1053.,  1053.,  1053.,  1053.,  1053.,  1053.,  1053.,  1053.],\n",
       "        [  299.,   299.,   299.,   299.,   299.,   299.,   299.,   299.,   299.,\n",
       "           299.,   299.,   299.,   299.,   299.,   299.,   299.,   299.,   299.,\n",
       "           299.,   299.,   299.,   299.,   299.,   299.,   299.,   299.,   299.],\n",
       "        [12727., 12727., 12727., 12727., 12727., 12727., 12727., 12727., 12727.,\n",
       "         12727., 12727., 12727., 12727., 12727., 12727., 12727., 12727., 12727.,\n",
       "         12727., 12727., 12727., 12727., 12727., 12727., 12727., 12727., 12727.],\n",
       "        [ 8133.,  8133.,  8133.,  8133.,  8133.,  8133.,  8133.,  8133.,  8133.,\n",
       "          8133.,  8133.,  8133.,  8133.,  8133.,  8133.,  8133.,  8133.,  8133.,\n",
       "          8133.,  8133.,  8133.,  8133.,  8133.,  8133.,  8133.,  8133.,  8133.],\n",
       "        [ 5597.,  5597.,  5597.,  5597.,  5597.,  5597.,  5597.,  5597.,  5597.,\n",
       "          5597.,  5597.,  5597.,  5597.,  5597.,  5597.,  5597.,  5597.,  5597.,\n",
       "          5597.,  5597.,  5597.,  5597.,  5597.,  5597.,  5597.,  5597.,  5597.],\n",
       "        [ 3162.,  3162.,  3162.,  3162.,  3162.,  3162.,  3162.,  3162.,  3162.,\n",
       "          3162.,  3162.,  3162.,  3162.,  3162.,  3162.,  3162.,  3162.,  3162.,\n",
       "          3162.,  3162.,  3162.,  3162.,  3162.,  3162.,  3162.,  3162.,  3162.],\n",
       "        [ 2600.,  2600.,  2600.,  2600.,  2600.,  2600.,  2600.,  2600.,  2600.,\n",
       "          2600.,  2600.,  2600.,  2600.,  2600.,  2600.,  2600.,  2600.,  2600.,\n",
       "          2600.,  2600.,  2600.,  2600.,  2600.,  2600.,  2600.,  2600.,  2600.],\n",
       "        [  956.,   956.,   956.,   956.,   956.,   956.,   956.,   956.,   956.,\n",
       "           956.,   956.,   956.,   956.,   956.,   956.,   956.,   956.,   956.,\n",
       "           956.,   956.,   956.,   956.,   956.,   956.,   956.,   956.,   956.],\n",
       "        [  724.,   724.,   724.,   724.,   724.,   724.,   724.,   724.,   724.,\n",
       "           724.,   724.,   724.,   724.,   724.,   724.,   724.,   724.,   724.,\n",
       "           724.,   724.,   724.,   724.,   724.,   724.,   724.,   724.,   724.],\n",
       "        [ 9803.,  9803.,  9803.,  9803.,  9803.,  9803.,  9803.,  9803.,  9803.,\n",
       "          9803.,  9803.,  9803.,  9803.,  9803.,  9803.,  9803.,  9803.,  9803.,\n",
       "          9803.,  9803.,  9803.,  9803.,  9803.,  9803.,  9803.,  9803.,  9803.],\n",
       "        [ 2425.,  2425.,  2425.,  2425.,  2425.,  2425.,  2425.,  2425.,  2425.,\n",
       "          2425.,  2425.,  2425.,  2425.,  2425.,  2425.,  2425.,  2425.,  2425.,\n",
       "          2425.,  2425.,  2425.,  2425.,  2425.,  2425.,  2425.,  2425.,  2425.]])"
      ]
     },
     "execution_count": 21,
     "metadata": {},
     "output_type": "execute_result"
    }
   ],
   "source": [
    "P.sum(1,keepdim=True).broadcast_to((27,27)) # streches out across the columns so copies same values across all columns"
   ]
  },
  {
   "cell_type": "code",
   "execution_count": 22,
   "id": "ccfc6ace",
   "metadata": {
    "scrolled": true
   },
   "outputs": [
    {
     "data": {
      "text/plain": [
       "tensor([[32060., 33912.,  2672.,  3559.,  5523., 20450.,   932.,  1954.,  7643.,\n",
       "         17728.,  2927.,  5067., 13985.,  6669., 18354.,  7961.,  1053.,   299.,\n",
       "         12727.,  8133.,  5597.,  3162.,  2600.,   956.,   724.,  9803.,  2425.],\n",
       "        [32060., 33912.,  2672.,  3559.,  5523., 20450.,   932.,  1954.,  7643.,\n",
       "         17728.,  2927.,  5067., 13985.,  6669., 18354.,  7961.,  1053.,   299.,\n",
       "         12727.,  8133.,  5597.,  3162.,  2600.,   956.,   724.,  9803.,  2425.],\n",
       "        [32060., 33912.,  2672.,  3559.,  5523., 20450.,   932.,  1954.,  7643.,\n",
       "         17728.,  2927.,  5067., 13985.,  6669., 18354.,  7961.,  1053.,   299.,\n",
       "         12727.,  8133.,  5597.,  3162.,  2600.,   956.,   724.,  9803.,  2425.],\n",
       "        [32060., 33912.,  2672.,  3559.,  5523., 20450.,   932.,  1954.,  7643.,\n",
       "         17728.,  2927.,  5067., 13985.,  6669., 18354.,  7961.,  1053.,   299.,\n",
       "         12727.,  8133.,  5597.,  3162.,  2600.,   956.,   724.,  9803.,  2425.],\n",
       "        [32060., 33912.,  2672.,  3559.,  5523., 20450.,   932.,  1954.,  7643.,\n",
       "         17728.,  2927.,  5067., 13985.,  6669., 18354.,  7961.,  1053.,   299.,\n",
       "         12727.,  8133.,  5597.,  3162.,  2600.,   956.,   724.,  9803.,  2425.],\n",
       "        [32060., 33912.,  2672.,  3559.,  5523., 20450.,   932.,  1954.,  7643.,\n",
       "         17728.,  2927.,  5067., 13985.,  6669., 18354.,  7961.,  1053.,   299.,\n",
       "         12727.,  8133.,  5597.,  3162.,  2600.,   956.,   724.,  9803.,  2425.],\n",
       "        [32060., 33912.,  2672.,  3559.,  5523., 20450.,   932.,  1954.,  7643.,\n",
       "         17728.,  2927.,  5067., 13985.,  6669., 18354.,  7961.,  1053.,   299.,\n",
       "         12727.,  8133.,  5597.,  3162.,  2600.,   956.,   724.,  9803.,  2425.],\n",
       "        [32060., 33912.,  2672.,  3559.,  5523., 20450.,   932.,  1954.,  7643.,\n",
       "         17728.,  2927.,  5067., 13985.,  6669., 18354.,  7961.,  1053.,   299.,\n",
       "         12727.,  8133.,  5597.,  3162.,  2600.,   956.,   724.,  9803.,  2425.],\n",
       "        [32060., 33912.,  2672.,  3559.,  5523., 20450.,   932.,  1954.,  7643.,\n",
       "         17728.,  2927.,  5067., 13985.,  6669., 18354.,  7961.,  1053.,   299.,\n",
       "         12727.,  8133.,  5597.,  3162.,  2600.,   956.,   724.,  9803.,  2425.],\n",
       "        [32060., 33912.,  2672.,  3559.,  5523., 20450.,   932.,  1954.,  7643.,\n",
       "         17728.,  2927.,  5067., 13985.,  6669., 18354.,  7961.,  1053.,   299.,\n",
       "         12727.,  8133.,  5597.,  3162.,  2600.,   956.,   724.,  9803.,  2425.],\n",
       "        [32060., 33912.,  2672.,  3559.,  5523., 20450.,   932.,  1954.,  7643.,\n",
       "         17728.,  2927.,  5067., 13985.,  6669., 18354.,  7961.,  1053.,   299.,\n",
       "         12727.,  8133.,  5597.,  3162.,  2600.,   956.,   724.,  9803.,  2425.],\n",
       "        [32060., 33912.,  2672.,  3559.,  5523., 20450.,   932.,  1954.,  7643.,\n",
       "         17728.,  2927.,  5067., 13985.,  6669., 18354.,  7961.,  1053.,   299.,\n",
       "         12727.,  8133.,  5597.,  3162.,  2600.,   956.,   724.,  9803.,  2425.],\n",
       "        [32060., 33912.,  2672.,  3559.,  5523., 20450.,   932.,  1954.,  7643.,\n",
       "         17728.,  2927.,  5067., 13985.,  6669., 18354.,  7961.,  1053.,   299.,\n",
       "         12727.,  8133.,  5597.,  3162.,  2600.,   956.,   724.,  9803.,  2425.],\n",
       "        [32060., 33912.,  2672.,  3559.,  5523., 20450.,   932.,  1954.,  7643.,\n",
       "         17728.,  2927.,  5067., 13985.,  6669., 18354.,  7961.,  1053.,   299.,\n",
       "         12727.,  8133.,  5597.,  3162.,  2600.,   956.,   724.,  9803.,  2425.],\n",
       "        [32060., 33912.,  2672.,  3559.,  5523., 20450.,   932.,  1954.,  7643.,\n",
       "         17728.,  2927.,  5067., 13985.,  6669., 18354.,  7961.,  1053.,   299.,\n",
       "         12727.,  8133.,  5597.,  3162.,  2600.,   956.,   724.,  9803.,  2425.],\n",
       "        [32060., 33912.,  2672.,  3559.,  5523., 20450.,   932.,  1954.,  7643.,\n",
       "         17728.,  2927.,  5067., 13985.,  6669., 18354.,  7961.,  1053.,   299.,\n",
       "         12727.,  8133.,  5597.,  3162.,  2600.,   956.,   724.,  9803.,  2425.],\n",
       "        [32060., 33912.,  2672.,  3559.,  5523., 20450.,   932.,  1954.,  7643.,\n",
       "         17728.,  2927.,  5067., 13985.,  6669., 18354.,  7961.,  1053.,   299.,\n",
       "         12727.,  8133.,  5597.,  3162.,  2600.,   956.,   724.,  9803.,  2425.],\n",
       "        [32060., 33912.,  2672.,  3559.,  5523., 20450.,   932.,  1954.,  7643.,\n",
       "         17728.,  2927.,  5067., 13985.,  6669., 18354.,  7961.,  1053.,   299.,\n",
       "         12727.,  8133.,  5597.,  3162.,  2600.,   956.,   724.,  9803.,  2425.],\n",
       "        [32060., 33912.,  2672.,  3559.,  5523., 20450.,   932.,  1954.,  7643.,\n",
       "         17728.,  2927.,  5067., 13985.,  6669., 18354.,  7961.,  1053.,   299.,\n",
       "         12727.,  8133.,  5597.,  3162.,  2600.,   956.,   724.,  9803.,  2425.],\n",
       "        [32060., 33912.,  2672.,  3559.,  5523., 20450.,   932.,  1954.,  7643.,\n",
       "         17728.,  2927.,  5067., 13985.,  6669., 18354.,  7961.,  1053.,   299.,\n",
       "         12727.,  8133.,  5597.,  3162.,  2600.,   956.,   724.,  9803.,  2425.],\n",
       "        [32060., 33912.,  2672.,  3559.,  5523., 20450.,   932.,  1954.,  7643.,\n",
       "         17728.,  2927.,  5067., 13985.,  6669., 18354.,  7961.,  1053.,   299.,\n",
       "         12727.,  8133.,  5597.,  3162.,  2600.,   956.,   724.,  9803.,  2425.],\n",
       "        [32060., 33912.,  2672.,  3559.,  5523., 20450.,   932.,  1954.,  7643.,\n",
       "         17728.,  2927.,  5067., 13985.,  6669., 18354.,  7961.,  1053.,   299.,\n",
       "         12727.,  8133.,  5597.,  3162.,  2600.,   956.,   724.,  9803.,  2425.],\n",
       "        [32060., 33912.,  2672.,  3559.,  5523., 20450.,   932.,  1954.,  7643.,\n",
       "         17728.,  2927.,  5067., 13985.,  6669., 18354.,  7961.,  1053.,   299.,\n",
       "         12727.,  8133.,  5597.,  3162.,  2600.,   956.,   724.,  9803.,  2425.],\n",
       "        [32060., 33912.,  2672.,  3559.,  5523., 20450.,   932.,  1954.,  7643.,\n",
       "         17728.,  2927.,  5067., 13985.,  6669., 18354.,  7961.,  1053.,   299.,\n",
       "         12727.,  8133.,  5597.,  3162.,  2600.,   956.,   724.,  9803.,  2425.],\n",
       "        [32060., 33912.,  2672.,  3559.,  5523., 20450.,   932.,  1954.,  7643.,\n",
       "         17728.,  2927.,  5067., 13985.,  6669., 18354.,  7961.,  1053.,   299.,\n",
       "         12727.,  8133.,  5597.,  3162.,  2600.,   956.,   724.,  9803.,  2425.],\n",
       "        [32060., 33912.,  2672.,  3559.,  5523., 20450.,   932.,  1954.,  7643.,\n",
       "         17728.,  2927.,  5067., 13985.,  6669., 18354.,  7961.,  1053.,   299.,\n",
       "         12727.,  8133.,  5597.,  3162.,  2600.,   956.,   724.,  9803.,  2425.],\n",
       "        [32060., 33912.,  2672.,  3559.,  5523., 20450.,   932.,  1954.,  7643.,\n",
       "         17728.,  2927.,  5067., 13985.,  6669., 18354.,  7961.,  1053.,   299.,\n",
       "         12727.,  8133.,  5597.,  3162.,  2600.,   956.,   724.,  9803.,  2425.]])"
      ]
     },
     "execution_count": 22,
     "metadata": {},
     "output_type": "execute_result"
    }
   ],
   "source": [
    "P.sum(1).broadcast_to((27,27)) # streches out across the row, so copies same value across rows\n",
    "# so this would be column normalization"
   ]
  },
  {
   "cell_type": "code",
   "execution_count": 23,
   "id": "81de1021",
   "metadata": {},
   "outputs": [],
   "source": [
    "# 27, 27\n",
    "# 27, 1\n",
    "P /= P.sum(1,keepdim=True) # broadcasted # practice it very well\n",
    "# inplace op is faster"
   ]
  },
  {
   "cell_type": "code",
   "execution_count": 24,
   "id": "ae73f726",
   "metadata": {},
   "outputs": [
    {
     "data": {
      "text/plain": [
       "tensor([1.0000, 1.0000, 1.0000, 1.0000, 1.0000, 1.0000, 1.0000, 1.0000, 1.0000,\n",
       "        1.0000, 1.0000, 1.0000, 1.0000, 1.0000, 1.0000, 1.0000, 1.0000, 1.0000,\n",
       "        1.0000, 1.0000, 1.0000, 1.0000, 1.0000, 1.0000, 1.0000, 1.0000, 1.0000])"
      ]
     },
     "execution_count": 24,
     "metadata": {},
     "output_type": "execute_result"
    }
   ],
   "source": [
    "P.sum(1)"
   ]
  },
  {
   "cell_type": "code",
   "execution_count": 25,
   "id": "82efb061",
   "metadata": {},
   "outputs": [
    {
     "name": "stdout",
     "output_type": "stream",
     "text": [
      "mor.\n",
      "axx.\n",
      "minaymoryles.\n",
      "kondlaisah.\n",
      "anchshizarie.\n"
     ]
    }
   ],
   "source": [
    "g = torch.Generator().manual_seed(2147483647)\n",
    "for i in range(5):\n",
    "    ix = 0\n",
    "    out = []\n",
    "    while True:\n",
    "        p = P[ix]\n",
    "#         p = N[ix].float()\n",
    "#         p = p/p.sum()\n",
    "        ix = torch.multinomial(p,num_samples=1, replacement=True, generator=g).item()\n",
    "        out.append(itos[ix])\n",
    "        if ix==0:\n",
    "            break\n",
    "    print(''.join(out))\n",
    "    "
   ]
  },
  {
   "cell_type": "code",
   "execution_count": 26,
   "id": "e9e28e8b",
   "metadata": {},
   "outputs": [],
   "source": [
    "# Evaluate the quality of this model\n",
    "\n",
    "# likelihood : product of the probabilities \n",
    "# for conv, use log likelihood\n",
    "\n",
    "# GOAL: maximize likelihood of the data wrt model params (statictical modeling)\n",
    "# equivalent to maximizing the log likelihood (as log is monotonic)\n",
    "# equivalent to minimizing the negative log likelihood\n",
    "# equivalent to minimizing the average negative log likelihood\n",
    "\n"
   ]
  },
  {
   "cell_type": "code",
   "execution_count": 27,
   "id": "7e7e7d66",
   "metadata": {},
   "outputs": [
    {
     "name": "stdout",
     "output_type": "stream",
     "text": [
      "log_likelihood=tensor(-559951.5625)\n",
      "nll=tensor(559951.5625)\n",
      "2.4543561935424805\n"
     ]
    }
   ],
   "source": [
    "log_likelihood = 0.0\n",
    "n=0\n",
    "for w in words:\n",
    "    chs = ['.'] + list(w) + ['.']\n",
    "    for ch1,ch2 in zip(chs,chs[1:]): # only runs to length of smaller zipped thing\n",
    "        ix1,ix2 = stoi[ch1],stoi[ch2]\n",
    "        prob = P[ix1,ix2]\n",
    "        logprob = torch.log(prob)\n",
    "        log_likelihood += logprob\n",
    "        n+=1\n",
    "        #print(f'{ch1}{ch2}: {prob:.4f} {logprob:.4f}')\n",
    "print(f'{log_likelihood=}')\n",
    "nll = -log_likelihood\n",
    "print(f'{nll=}')\n",
    "print(f'{nll/n}') # usually the loss func"
   ]
  },
  {
   "cell_type": "code",
   "execution_count": 28,
   "id": "f512beec",
   "metadata": {},
   "outputs": [],
   "source": [
    "# use a neural net which predicts probability for the next character\n"
   ]
  },
  {
   "cell_type": "code",
   "execution_count": 29,
   "id": "8aadfdd0",
   "metadata": {},
   "outputs": [],
   "source": [
    "# create training set of bigrams (x,y) [first char, next char]\n",
    "xs , ys = [], []\n",
    "\n",
    "for w in words[:1]:\n",
    "    chs = ['.'] + list(w) + ['.']\n",
    "    for ch1,ch2 in zip(chs,chs[1:]): # only runs to length of smaller zipped thing\n",
    "        ix1,ix2 = stoi[ch1],stoi[ch2]\n",
    "        xs.append(ix1)\n",
    "        ys.append(ix2)\n",
    "xs = torch.tensor(xs)\n",
    "ys = torch.tensor(ys)"
   ]
  },
  {
   "cell_type": "code",
   "execution_count": 30,
   "id": "f364c4a2",
   "metadata": {},
   "outputs": [
    {
     "data": {
      "text/plain": [
       "tensor([ 0,  5, 13, 13,  1])"
      ]
     },
     "execution_count": 30,
     "metadata": {},
     "output_type": "execute_result"
    }
   ],
   "source": [
    "xs"
   ]
  },
  {
   "cell_type": "code",
   "execution_count": 31,
   "id": "82a365e7",
   "metadata": {},
   "outputs": [
    {
     "data": {
      "text/plain": [
       "tensor([ 5, 13, 13,  1,  0])"
      ]
     },
     "execution_count": 31,
     "metadata": {},
     "output_type": "execute_result"
    }
   ],
   "source": [
    "ys"
   ]
  },
  {
   "cell_type": "code",
   "execution_count": 32,
   "id": "90bacd7c",
   "metadata": {},
   "outputs": [],
   "source": [
    "import torch.nn.functional as F"
   ]
  },
  {
   "cell_type": "code",
   "execution_count": 33,
   "id": "3cd64ec1",
   "metadata": {},
   "outputs": [],
   "source": [
    "xenc = F.one_hot(xs,num_classes=27).float()\n",
    "yenc = F.one_hot(ys,num_classes=27).float()"
   ]
  },
  {
   "cell_type": "code",
   "execution_count": 34,
   "id": "ab0884ff",
   "metadata": {},
   "outputs": [
    {
     "data": {
      "text/plain": [
       "torch.Size([5, 27])"
      ]
     },
     "execution_count": 34,
     "metadata": {},
     "output_type": "execute_result"
    }
   ],
   "source": [
    "xenc.shape\n"
   ]
  },
  {
   "cell_type": "code",
   "execution_count": 35,
   "id": "56943571",
   "metadata": {},
   "outputs": [
    {
     "data": {
      "text/plain": [
       "<matplotlib.image.AxesImage at 0x13f1a2790>"
      ]
     },
     "execution_count": 35,
     "metadata": {},
     "output_type": "execute_result"
    },
    {
     "data": {
      "image/png": "[encoded data removed]",
      "text/plain": [
       "<Figure size 640x480 with 1 Axes>"
      ]
     },
     "metadata": {},
     "output_type": "display_data"
    }
   ],
   "source": [
    "plt.imshow(xenc)"
   ]
  },
  {
   "cell_type": "code",
   "execution_count": 36,
   "id": "1796c2e8",
   "metadata": {},
   "outputs": [
    {
     "data": {
      "text/plain": [
       "<matplotlib.image.AxesImage at 0x13f20a910>"
      ]
     },
     "execution_count": 36,
     "metadata": {},
     "output_type": "execute_result"
    },
    {
     "data": {
      "image/png": "[encoded data removed]",
      "text/plain": [
       "<Figure size 640x480 with 1 Axes>"
      ]
     },
     "metadata": {},
     "output_type": "display_data"
    }
   ],
   "source": [
    "plt.imshow(yenc)"
   ]
  },
  {
   "cell_type": "code",
   "execution_count": 37,
   "id": "348a8e16",
   "metadata": {},
   "outputs": [],
   "source": [
    "# W = torch.randn((27,1)) # Single neuron\n",
    "g = torch.Generator().manual_seed(2147483647)\n",
    "W = torch.randn((27,27), generator=g) # 27 neurons"
   ]
  },
  {
   "cell_type": "code",
   "execution_count": 38,
   "id": "44a9240f",
   "metadata": {},
   "outputs": [
    {
     "data": {
      "text/plain": [
       "tensor([[ 1.5674e+00, -2.3729e-01, -2.7385e-02, -1.1008e+00,  2.8588e-01,\n",
       "         -2.9644e-02, -1.5471e+00,  6.0489e-01,  7.9136e-02,  9.0462e-01,\n",
       "         -4.7125e-01,  7.8682e-01, -3.2844e-01, -4.3297e-01,  1.3729e+00,\n",
       "          2.9334e+00,  1.5618e+00, -1.6261e+00,  6.7716e-01, -8.4040e-01,\n",
       "          9.8488e-01, -1.4837e-01, -1.4795e+00,  4.4830e-01, -7.0731e-02,\n",
       "          2.4968e+00,  2.4448e+00],\n",
       "        [ 4.7236e-01,  1.4830e+00,  3.1748e-01,  1.0588e+00,  2.3982e+00,\n",
       "          4.6827e-01, -6.5650e-01,  6.1662e-01, -6.2198e-01,  5.1007e-01,\n",
       "          1.3563e+00,  2.3445e-01, -4.5585e-01, -1.3132e-03, -5.1161e-01,\n",
       "          5.5570e-01,  4.7458e-01, -1.3867e+00,  1.6229e+00,  1.7197e-01,\n",
       "          9.8846e-01,  5.0657e-01,  1.0198e+00, -1.9062e+00, -4.2753e-01,\n",
       "         -2.1259e+00,  9.6041e-01],\n",
       "        [ 1.9359e-01,  1.0532e+00,  6.3393e-01,  2.5786e-01,  9.6408e-01,\n",
       "         -2.4855e-01,  2.4756e-02, -3.0404e-02,  1.5622e+00, -4.4852e-01,\n",
       "         -1.2345e+00,  1.1220e+00, -6.7381e-01,  3.7882e-02, -5.5881e-01,\n",
       "         -8.2709e-01,  8.2253e-01, -7.5100e-01,  9.2778e-01, -1.4849e+00,\n",
       "         -2.1293e-01, -1.1860e+00, -6.6092e-01, -2.3348e-01,  1.5447e+00,\n",
       "          6.0061e-01, -7.0909e-01],\n",
       "        [ 1.9359e-01,  1.0532e+00,  6.3393e-01,  2.5786e-01,  9.6408e-01,\n",
       "         -2.4855e-01,  2.4756e-02, -3.0404e-02,  1.5622e+00, -4.4852e-01,\n",
       "         -1.2345e+00,  1.1220e+00, -6.7381e-01,  3.7882e-02, -5.5881e-01,\n",
       "         -8.2709e-01,  8.2253e-01, -7.5100e-01,  9.2778e-01, -1.4849e+00,\n",
       "         -2.1293e-01, -1.1860e+00, -6.6092e-01, -2.3348e-01,  1.5447e+00,\n",
       "          6.0061e-01, -7.0909e-01],\n",
       "        [-6.7006e-01, -1.2199e+00,  3.0314e-01, -1.0725e+00,  7.2762e-01,\n",
       "          5.1114e-02,  1.3095e+00, -8.0220e-01, -8.5042e-01, -1.8068e+00,\n",
       "          1.2523e+00, -1.2256e+00,  1.2165e+00, -9.6478e-01, -2.3211e-01,\n",
       "         -3.4762e-01,  3.3244e-01, -1.3263e+00,  1.1224e+00,  5.9641e-01,\n",
       "          4.5846e-01,  5.4011e-02, -1.7400e+00,  1.1560e-01,  8.0319e-01,\n",
       "          5.4108e-01, -1.1646e+00]])"
      ]
     },
     "execution_count": 38,
     "metadata": {},
     "output_type": "execute_result"
    }
   ],
   "source": [
    "# xenc @ W # 5x27 @ 27x1 = 5x1\n",
    "\n",
    "xenc @ W # 5x27 @ 27x27 = 5x27\n"
   ]
  },
  {
   "cell_type": "code",
   "execution_count": 39,
   "id": "fa04a878",
   "metadata": {},
   "outputs": [
    {
     "data": {
      "text/plain": [
       "tensor(0.0379)"
      ]
     },
     "execution_count": 39,
     "metadata": {},
     "output_type": "execute_result"
    }
   ],
   "source": [
    "(xenc @ W)[3,13] # 3 input on 13 neurons \n",
    "# manually would be (xenc[3]*W[:,13]).sum()"
   ]
  },
  {
   "cell_type": "code",
   "execution_count": 40,
   "id": "8d1980e8",
   "metadata": {},
   "outputs": [],
   "source": [
    "# (5,27) @ (27,27) -> (5,27) \n",
    "# these 27 numbers are giving us log counts for each the chars"
   ]
  },
  {
   "cell_type": "code",
   "execution_count": 41,
   "id": "e26bb024",
   "metadata": {},
   "outputs": [],
   "source": [
    "logits = xenc@W # log counts\n",
    "counts = logits.exp()  # equivalents of the count matrix N above\n",
    "probs = counts/counts.sum(1,keepdims=True)"
   ]
  },
  {
   "cell_type": "code",
   "execution_count": 42,
   "id": "cc6598fd",
   "metadata": {},
   "outputs": [
    {
     "data": {
      "text/plain": [
       "tensor([[0.0607, 0.0100, 0.0123, 0.0042, 0.0168, 0.0123, 0.0027, 0.0232, 0.0137,\n",
       "         0.0313, 0.0079, 0.0278, 0.0091, 0.0082, 0.0500, 0.2378, 0.0603, 0.0025,\n",
       "         0.0249, 0.0055, 0.0339, 0.0109, 0.0029, 0.0198, 0.0118, 0.1537, 0.1459],\n",
       "        [0.0290, 0.0796, 0.0248, 0.0521, 0.1989, 0.0289, 0.0094, 0.0335, 0.0097,\n",
       "         0.0301, 0.0702, 0.0228, 0.0115, 0.0181, 0.0108, 0.0315, 0.0291, 0.0045,\n",
       "         0.0916, 0.0215, 0.0486, 0.0300, 0.0501, 0.0027, 0.0118, 0.0022, 0.0472],\n",
       "        [0.0312, 0.0737, 0.0484, 0.0333, 0.0674, 0.0200, 0.0263, 0.0249, 0.1226,\n",
       "         0.0164, 0.0075, 0.0789, 0.0131, 0.0267, 0.0147, 0.0112, 0.0585, 0.0121,\n",
       "         0.0650, 0.0058, 0.0208, 0.0078, 0.0133, 0.0203, 0.1204, 0.0469, 0.0126],\n",
       "        [0.0312, 0.0737, 0.0484, 0.0333, 0.0674, 0.0200, 0.0263, 0.0249, 0.1226,\n",
       "         0.0164, 0.0075, 0.0789, 0.0131, 0.0267, 0.0147, 0.0112, 0.0585, 0.0121,\n",
       "         0.0650, 0.0058, 0.0208, 0.0078, 0.0133, 0.0203, 0.1204, 0.0469, 0.0126],\n",
       "        [0.0150, 0.0086, 0.0396, 0.0100, 0.0606, 0.0308, 0.1084, 0.0131, 0.0125,\n",
       "         0.0048, 0.1024, 0.0086, 0.0988, 0.0112, 0.0232, 0.0207, 0.0408, 0.0078,\n",
       "         0.0899, 0.0531, 0.0463, 0.0309, 0.0051, 0.0329, 0.0654, 0.0503, 0.0091]])"
      ]
     },
     "execution_count": 42,
     "metadata": {},
     "output_type": "execute_result"
    }
   ],
   "source": [
    "probs"
   ]
  },
  {
   "cell_type": "code",
   "execution_count": 43,
   "id": "89d1c590",
   "metadata": {},
   "outputs": [
    {
     "data": {
      "text/plain": [
       "torch.Size([5, 27])"
      ]
     },
     "execution_count": 43,
     "metadata": {},
     "output_type": "execute_result"
    }
   ],
   "source": [
    "probs.shape"
   ]
  },
  {
   "cell_type": "code",
   "execution_count": 44,
   "id": "59154163",
   "metadata": {},
   "outputs": [
    {
     "data": {
      "text/plain": [
       "tensor(1.0000)"
      ]
     },
     "execution_count": 44,
     "metadata": {},
     "output_type": "execute_result"
    }
   ],
   "source": [
    "probs[0].sum()"
   ]
  },
  {
   "cell_type": "code",
   "execution_count": 45,
   "id": "fbb4bf9b",
   "metadata": {},
   "outputs": [],
   "source": [
    "g = torch.Generator().manual_seed(2147483647)\n",
    "W = torch.randn((27,27), generator=g) # 27 neurons"
   ]
  },
  {
   "cell_type": "code",
   "execution_count": 46,
   "id": "ebb85dbf",
   "metadata": {},
   "outputs": [],
   "source": [
    "\n",
    "xenc = F.one_hot(xs,num_classes=27).float()\n",
    "logits = xenc@W # predict log counts\n",
    "counts = logits.exp() # counts, N Matrix from before\n",
    "probs = counts/counts.sum(1,keepdim=True) # prob for next char\n",
    "# last 2 lines are SOFTMAX: make a NN output probability\n"
   ]
  },
  {
   "cell_type": "code",
   "execution_count": 47,
   "id": "d28c40f2",
   "metadata": {},
   "outputs": [
    {
     "name": "stdout",
     "output_type": "stream",
     "text": [
      "----\n",
      "bigram eg 1: .e (indices 0,5)\n",
      "input to neural net: 0\n",
      "output prob from nn: tensor([0.0607, 0.0100, 0.0123, 0.0042, 0.0168, 0.0123, 0.0027, 0.0232, 0.0137,\n",
      "        0.0313, 0.0079, 0.0278, 0.0091, 0.0082, 0.0500, 0.2378, 0.0603, 0.0025,\n",
      "        0.0249, 0.0055, 0.0339, 0.0109, 0.0029, 0.0198, 0.0118, 0.1537, 0.1459])\n",
      "label (actual next char): 5\n",
      "prob of next actual char:  0.012286253273487091\n",
      "logp=tensor(-4.3993)\n",
      "nll=tensor(4.3993)\n",
      "----\n",
      "bigram eg 2: em (indices 5,13)\n",
      "input to neural net: 5\n",
      "output prob from nn: tensor([0.0290, 0.0796, 0.0248, 0.0521, 0.1989, 0.0289, 0.0094, 0.0335, 0.0097,\n",
      "        0.0301, 0.0702, 0.0228, 0.0115, 0.0181, 0.0108, 0.0315, 0.0291, 0.0045,\n",
      "        0.0916, 0.0215, 0.0486, 0.0300, 0.0501, 0.0027, 0.0118, 0.0022, 0.0472])\n",
      "label (actual next char): 13\n",
      "prob of next actual char:  0.018050702288746834\n",
      "logp=tensor(-4.0146)\n",
      "nll=tensor(4.0146)\n",
      "----\n",
      "bigram eg 3: mm (indices 13,13)\n",
      "input to neural net: 13\n",
      "output prob from nn: tensor([0.0312, 0.0737, 0.0484, 0.0333, 0.0674, 0.0200, 0.0263, 0.0249, 0.1226,\n",
      "        0.0164, 0.0075, 0.0789, 0.0131, 0.0267, 0.0147, 0.0112, 0.0585, 0.0121,\n",
      "        0.0650, 0.0058, 0.0208, 0.0078, 0.0133, 0.0203, 0.1204, 0.0469, 0.0126])\n",
      "label (actual next char): 13\n",
      "prob of next actual char:  0.026691533625125885\n",
      "logp=tensor(-3.6234)\n",
      "nll=tensor(3.6234)\n",
      "----\n",
      "bigram eg 4: ma (indices 13,1)\n",
      "input to neural net: 13\n",
      "output prob from nn: tensor([0.0312, 0.0737, 0.0484, 0.0333, 0.0674, 0.0200, 0.0263, 0.0249, 0.1226,\n",
      "        0.0164, 0.0075, 0.0789, 0.0131, 0.0267, 0.0147, 0.0112, 0.0585, 0.0121,\n",
      "        0.0650, 0.0058, 0.0208, 0.0078, 0.0133, 0.0203, 0.1204, 0.0469, 0.0126])\n",
      "label (actual next char): 1\n",
      "prob of next actual char:  0.07367684692144394\n",
      "logp=tensor(-2.6081)\n",
      "nll=tensor(2.6081)\n",
      "----\n",
      "bigram eg 5: a. (indices 1,0)\n",
      "input to neural net: 1\n",
      "output prob from nn: tensor([0.0150, 0.0086, 0.0396, 0.0100, 0.0606, 0.0308, 0.1084, 0.0131, 0.0125,\n",
      "        0.0048, 0.1024, 0.0086, 0.0988, 0.0112, 0.0232, 0.0207, 0.0408, 0.0078,\n",
      "        0.0899, 0.0531, 0.0463, 0.0309, 0.0051, 0.0329, 0.0654, 0.0503, 0.0091])\n",
      "label (actual next char): 0\n",
      "prob of next actual char:  0.0149775305762887\n",
      "logp=tensor(-4.2012)\n",
      "nll=tensor(4.2012)\n",
      "nlls=tensor([4.3993, 4.0146, 3.6234, 2.6081, 4.2012])\n",
      "average log likelihood ie the loss: 3.7693049907684326\n"
     ]
    }
   ],
   "source": [
    "nlls = torch.zeros(5)\n",
    "for i in range(5):\n",
    "    # ith bigram\n",
    "    x = xs[i].item() # input char idx\n",
    "    y = ys[i].item() # label char idx\n",
    "    print('----')\n",
    "    print(f'bigram eg {i+1}: {itos[x]}{itos[y]} (indices {x},{y})')\n",
    "    print(f'input to neural net: {x}')\n",
    "    print(f'output prob from nn: {probs[i]}')\n",
    "    print(f'label (actual next char): {y}')\n",
    "    p = probs[i,y]\n",
    "    print('prob of next actual char: ', p.item())\n",
    "    logp = torch.log(p)\n",
    "    print(f'{logp=}')\n",
    "    nll = -logp\n",
    "    print(f'{nll=}')\n",
    "    nlls[i]=nll\n",
    "\n",
    "print(f'{nlls=}')\n",
    "print(f'average log likelihood ie the loss: {nlls.mean().item()}')"
   ]
  },
  {
   "cell_type": "code",
   "execution_count": 48,
   "id": "5b988e88",
   "metadata": {},
   "outputs": [],
   "source": [
    "# random init W\n",
    "g = torch.Generator().manual_seed(2147483647)\n",
    "W = torch.randn((27,27), generator=g, requires_grad=True) # 27 neurons"
   ]
  },
  {
   "cell_type": "code",
   "execution_count": 49,
   "id": "5dd92e97",
   "metadata": {},
   "outputs": [
    {
     "name": "stdout",
     "output_type": "stream",
     "text": [
      "tensor(3.7693, grad_fn=<NegBackward0>)\n"
     ]
    }
   ],
   "source": [
    "#Forward pass\n",
    "xenc = F.one_hot(xs,num_classes=27).float()\n",
    "logits = xenc@W # predict log counts\n",
    "counts = logits.exp() # counts, N Matrix from before\n",
    "probs = counts/counts.sum(1,keepdim=True) # prob for next char\n",
    "loss= -probs[torch.arange(5),ys].log().mean()\n",
    "print(loss)"
   ]
  },
  {
   "cell_type": "code",
   "execution_count": 50,
   "id": "097f20e7",
   "metadata": {},
   "outputs": [],
   "source": [
    "# backward pass\n",
    "W.grad = None # zero grad\n",
    "loss.backward()"
   ]
  },
  {
   "cell_type": "code",
   "execution_count": 51,
   "id": "0fb29d96",
   "metadata": {},
   "outputs": [],
   "source": [
    "# update params\n",
    "W.data += -0.5*W.grad"
   ]
  },
  {
   "cell_type": "code",
   "execution_count": 52,
   "id": "01f2aaed",
   "metadata": {},
   "outputs": [],
   "source": [
    "# ------------------\n"
   ]
  },
  {
   "cell_type": "code",
   "execution_count": 53,
   "id": "a51720d9",
   "metadata": {},
   "outputs": [
    {
     "name": "stdout",
     "output_type": "stream",
     "text": [
      "num of eg:  228146\n"
     ]
    }
   ],
   "source": [
    "# create dataset \n",
    "xs , ys = [], []\n",
    "\n",
    "for w in words:\n",
    "    chs = ['.'] + list(w) + ['.']\n",
    "    for ch1,ch2 in zip(chs,chs[1:]): # only runs to length of smaller zipped thing\n",
    "        ix1,ix2 = stoi[ch1],stoi[ch2]\n",
    "        xs.append(ix1)\n",
    "        ys.append(ix2)\n",
    "xs = torch.tensor(xs)\n",
    "ys = torch.tensor(ys)\n",
    "num = xs.nelement()\n",
    "print('num of eg: ',num)\n",
    "xenc = F.one_hot(xs,num_classes=27).float()\n",
    "# random init W\n",
    "g = torch.Generator().manual_seed(2147483647)\n",
    "W = torch.randn((27,27), generator=g, requires_grad=True) # 27 neurons\n",
    "# label smoothing : pushing W to be zero, they want to be more uniform "
   ]
  },
  {
   "cell_type": "code",
   "execution_count": 54,
   "id": "e1e945c7",
   "metadata": {},
   "outputs": [
    {
     "data": {
      "text/plain": [
       "tensor(0.9665, grad_fn=<MeanBackward0>)"
      ]
     },
     "execution_count": 54,
     "metadata": {},
     "output_type": "execute_result"
    }
   ],
   "source": [
    "(W**2).mean()"
   ]
  },
  {
   "cell_type": "code",
   "execution_count": 55,
   "id": "d911b582",
   "metadata": {
    "scrolled": true
   },
   "outputs": [
    {
     "name": "stdout",
     "output_type": "stream",
     "text": [
      "tensor(2.4901, grad_fn=<AddBackward0>)\n"
     ]
    }
   ],
   "source": [
    "# Gradient descent\n",
    "for k in range(100):\n",
    "    #Forward pass\n",
    "    \n",
    "    logits = xenc@W # predict log counts\n",
    "    counts = logits.exp() # counts, N Matrix from before\n",
    "    probs = counts/counts.sum(1,keepdim=True) # prob for next char\n",
    "    loss= -probs[torch.arange(num),ys].log().mean() + 0.01*(W**2).mean()\n",
    "#     print(loss)\n",
    "    # backward pass\n",
    "    W.grad = None # zero grad\n",
    "    loss.backward()\n",
    "    # update params\n",
    "    W.data += -50*W.grad\n",
    "print(loss)\n",
    "    "
   ]
  },
  {
   "cell_type": "code",
   "execution_count": 56,
   "id": "f5239693",
   "metadata": {},
   "outputs": [
    {
     "data": {
      "text/plain": [
       "<matplotlib.image.AxesImage at 0x13f2f3f40>"
      ]
     },
     "execution_count": 56,
     "metadata": {},
     "output_type": "execute_result"
    },
    {
     "data": {
      "image/png": "[encoded data removed]",
      "text/plain": [
       "<Figure size 640x480 with 1 Axes>"
      ]
     },
     "metadata": {},
     "output_type": "display_data"
    }
   ],
   "source": [
    "plt.imshow(W.exp().detach().numpy())"
   ]
  },
  {
   "cell_type": "code",
   "execution_count": 57,
   "id": "a89db3d4",
   "metadata": {},
   "outputs": [
    {
     "data": {
      "text/plain": [
       "<matplotlib.image.AxesImage at 0x13f542a00>"
      ]
     },
     "execution_count": 57,
     "metadata": {},
     "output_type": "execute_result"
    },
    {
     "data": {
      "image/png": "[encoded data removed]",
      "text/plain": [
       "<Figure size 640x480 with 1 Axes>"
      ]
     },
     "metadata": {},
     "output_type": "display_data"
    }
   ],
   "source": [
    "plt.imshow(N)"
   ]
  },
  {
   "cell_type": "code",
   "execution_count": 59,
   "id": "d78a82fc",
   "metadata": {},
   "outputs": [
    {
     "name": "stdout",
     "output_type": "stream",
     "text": [
      "mor.\n",
      "axx.\n",
      "minaymoryles.\n",
      "kondmaisah.\n",
      "anchthizarie.\n"
     ]
    }
   ],
   "source": [
    "# Sample from neural net model\n",
    "\n",
    "g = torch.Generator().manual_seed(2147483647)\n",
    "for i in range(5):\n",
    "    out = []\n",
    "    ix = 0\n",
    "    while True:\n",
    "        # before p=P[ix]\n",
    "        xenc = F.one_hot(torch.tensor([ix]),num_classes=27).float()\n",
    "        logits = xenc @W\n",
    "        counts = logits.exp()\n",
    "        p = counts/counts.sum(1,keepdims=True)\n",
    "        \n",
    "        ix = torch.multinomial(p, num_samples=1, replacement=True,generator=g).item()\n",
    "        out.append(itos[ix])\n",
    "        if ix==0:\n",
    "            break\n",
    "    print(''.join(out))"
   ]
  },
  {
   "cell_type": "code",
   "execution_count": null,
   "id": "a26da8fe",
   "metadata": {},
   "outputs": [],
   "source": []
  }
 ],
 "metadata": {
  "kernelspec": {
   "display_name": "Python 3 (ipykernel)",
   "language": "python",
   "name": "python3"
  },
  "language_info": {
   "codemirror_mode": {
    "name": "ipython",
    "version": 3
   },
   "file_extension": ".py",
   "mimetype": "text/x-python",
   "name": "python",
   "nbconvert_exporter": "python",
   "pygments_lexer": "ipython3",
   "version": "3.9.6"
  }
 },
 "nbformat": 4,
 "nbformat_minor": 5
}
