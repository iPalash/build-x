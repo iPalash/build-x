{
 "cells": [
  {
   "cell_type": "code",
   "execution_count": 1,
   "id": "f77981a5",
   "metadata": {},
   "outputs": [],
   "source": [
    "import torch\n",
    "import torch.nn.functional as F\n",
    "import random\n",
    "import matplotlib.pyplot as plt # for figures\n",
    "%matplotlib inline"
   ]
  },
  {
   "cell_type": "code",
   "execution_count": 2,
   "id": "484db22b",
   "metadata": {},
   "outputs": [
    {
     "name": "stdout",
     "output_type": "stream",
     "text": [
      "32033\n",
      "15\n",
      "['emma', 'olivia', 'ava', 'isabella', 'sophia', 'charlotte', 'mia', 'amelia']\n"
     ]
    }
   ],
   "source": [
    "# read words\n",
    "words = open('names.txt','r').read().splitlines()\n",
    "print(len(words))\n",
    "print(max(len(w) for w in words))\n",
    "print(words[:8])"
   ]
  },
  {
   "cell_type": "code",
   "execution_count": 76,
   "id": "49fdbadb",
   "metadata": {},
   "outputs": [],
   "source": [
    "# build vocab and mappings to/from ints\n",
    "vocab = sorted(list(set(''.join(words))))\n",
    "stoi = {s:i+1 for i,s in enumerate(vocab)}\n",
    "stoi['.']=0\n",
    "itos = {i:s for s,i in stoi.items()}\n",
    "vocab_size = len(vocab)+1"
   ]
  },
  {
   "cell_type": "code",
   "execution_count": 4,
   "id": "39c3eaa3",
   "metadata": {},
   "outputs": [
    {
     "name": "stdout",
     "output_type": "stream",
     "text": [
      "torch.Size([182435, 3]) torch.Size([182435])\n",
      "torch.Size([22840, 3]) torch.Size([22840])\n",
      "torch.Size([22871, 3]) torch.Size([22871])\n"
     ]
    }
   ],
   "source": [
    "# build dataset\n",
    "\n",
    "block_size = 3 # ctx length\n",
    "\n",
    "def build_dataset(words):\n",
    "    X,Y = [],[]\n",
    "    \n",
    "    for w in words:\n",
    "        context = [0]*block_size\n",
    "        for ch in w+'.':\n",
    "            ix = stoi[ch]\n",
    "            X.append(context)\n",
    "            Y.append(ix)\n",
    "            context = context[1:] + [ix]\n",
    "    X,Y = torch.tensor(X), torch.tensor(Y)\n",
    "    print(X.shape,Y.shape)\n",
    "    return X,Y\n",
    "\n",
    "random.shuffle(words)\n",
    "n = len(words)\n",
    "n1,n2  = int(0.8*n),int(0.9*n)\n",
    "\n",
    "Xtr, Ytr = build_dataset(words[:n1])\n",
    "Xdev, Ydev = build_dataset(words[n1:n2])\n",
    "Xte, Yte = build_dataset(words[n2:])"
   ]
  },
  {
   "cell_type": "code",
   "execution_count": 5,
   "id": "8714d86a",
   "metadata": {},
   "outputs": [],
   "source": [
    "# utility func to compare manual grads to pytorch grads\n",
    "def cmp(s, dt, t):\n",
    "    ex = torch.all(dt==t.grad).item()\n",
    "    app = torch.allclose(dt, t.grad)\n",
    "    maxdiff = (dt-t.grad).abs().max().item()\n",
    "    print(f'{s:15s} | exact: {str(ex):5s} | approximate: {str(app):5s} | maxdiff: {maxdiff}')\n",
    "    "
   ]
  },
  {
   "cell_type": "code",
   "execution_count": 6,
   "id": "c9b1d548",
   "metadata": {},
   "outputs": [
    {
     "name": "stdout",
     "output_type": "stream",
     "text": [
      "4137\n"
     ]
    }
   ],
   "source": [
    "n_embd = 10 # dimensionality of char embedding vectors\n",
    "n_hidden = 64 # num of hidden neurons\n",
    "\n",
    "g = torch.Generator().manual_seed(2147483647) \n",
    "C = torch.randn((vocab_size,n_embd), generator = g)\n",
    "#Layer 1\n",
    "W1 = torch.randn((n_embd*block_size, n_hidden), generator=g) * (5/3) / ((n_embd*block_size)**0.5)\n",
    "b1 = torch.randn(n_hidden, generator = g) * 0.1 # just to check grad\n",
    "# Layer 2\n",
    "W2 = torch.randn((n_hidden, vocab_size), generator = g) * 0.1\n",
    "b2 = torch.randn(vocab_size, generator=g) * 0.1\n",
    "# batchNorm params\n",
    "bngain = torch.randn((1,n_hidden), generator =g ) * 0.1 + 1.0\n",
    "bnbias = torch.randn((1,n_hidden))*0.1\n",
    "\n",
    "# non standard init for just check grads as zero vals can mask incorect gradients\n",
    "\n",
    "parameters = [C,W1,b1, W2, b2, bngain, bnbias]\n",
    "print(sum(p.nelement() for p in parameters)) # total params\n",
    "for p in parameters:\n",
    "    p.requires_grad = True"
   ]
  },
  {
   "cell_type": "code",
   "execution_count": 7,
   "id": "5e75182b",
   "metadata": {},
   "outputs": [],
   "source": [
    "batch_size = 32\n",
    "n = batch_size # shorter var size for convenice\n",
    "# construct a minibatch\n",
    "ix = torch.randint(0, Xtr.shape[0],(batch_size,), generator=g)\n",
    "Xb, Yb = Xtr[ix], Ytr[ix]"
   ]
  },
  {
   "cell_type": "code",
   "execution_count": 8,
   "id": "6dd1b81e",
   "metadata": {},
   "outputs": [
    {
     "data": {
      "text/plain": [
       "tensor(3.4609, grad_fn=<NegBackward0>)"
      ]
     },
     "execution_count": 8,
     "metadata": {},
     "output_type": "execute_result"
    }
   ],
   "source": [
    "# forward pass, chunked into smaller steps to backward one at a time\n",
    "\n",
    "emb = C[Xb] # embed char into vectors\n",
    "embcat = emb.view(emb.shape[0],-1) # concat \n",
    "# linear layer 1\n",
    "hprebn = embcat @ W1 + b1 # hidden layer pre activation\n",
    "# batch norm layer\n",
    "bnmeani = 1/n*hprebn.sum(0,keepdim=True)\n",
    "bndiff = hprebn - bnmeani\n",
    "bndiff2 = bndiff**2\n",
    "bnvar = 1/(n-1)*(bndiff2).sum(0,keepdim=True) # bessel's correction n-1 not n\n",
    "bnvar_inv = (bnvar+1e-5)**-0.5\n",
    "bnraw = bndiff*bnvar_inv\n",
    "hpreact = bngain*bnraw + bnbias\n",
    "# non-linearity\n",
    "h = torch.tanh(hpreact) # hidden layer tanh\n",
    "# linear layer 2\n",
    "logits = h @ W2 + b2 # output layer\n",
    "# cross entropy loss (same F.cross_entropy)\n",
    "logit_maxes = logits.max(1,keepdim=True).values\n",
    "norm_logits = logits - logit_maxes # subtract max for numerical stability\n",
    "counts = norm_logits.exp()\n",
    "counts_sum = counts.sum(1,keepdim=True) # 32x37 => 32x1\n",
    "counts_sum_inv = counts_sum**-1 # doing 1/count_sum wouldn't be exact for backprop\n",
    "probs = counts * counts_sum_inv # 32x27, 32x1\n",
    "logprobs = probs.log()\n",
    "loss = -logprobs[range(n),Yb].mean()\n",
    "\n",
    "# pytorch backward pass\n",
    "for p in parameters:\n",
    "    p.grad=None\n",
    "for t in [logprobs, probs, counts, counts_sum, counts_sum_inv,\n",
    "         norm_logits, logit_maxes, logits, h, hpreact, bnraw, \n",
    "         bnvar_inv, bnvar, bndiff2, bndiff, hprebn, bnmeani,\n",
    "         embcat, emb]:\n",
    "    t.retain_grad()\n",
    "loss.backward()\n",
    "loss"
   ]
  },
  {
   "cell_type": "code",
   "execution_count": 9,
   "id": "b1d58c7b",
   "metadata": {},
   "outputs": [
    {
     "data": {
      "text/plain": [
       "(torch.Size([32, 27]), torch.Size([32, 64]), torch.Size([64, 27]))"
      ]
     },
     "execution_count": 9,
     "metadata": {},
     "output_type": "execute_result"
    }
   ],
   "source": [
    "logits.shape, h.shape, W2.shape"
   ]
  },
  {
   "cell_type": "code",
   "execution_count": 32,
   "id": "999f142f",
   "metadata": {},
   "outputs": [
    {
     "name": "stdout",
     "output_type": "stream",
     "text": [
      "logprobs        | exact: True  | approximate: True  | maxdiff: 0.0\n",
      "probs           | exact: True  | approximate: True  | maxdiff: 0.0\n",
      "counts_sum_inv  | exact: True  | approximate: True  | maxdiff: 0.0\n",
      "counts_sum      | exact: True  | approximate: True  | maxdiff: 0.0\n",
      "counts          | exact: True  | approximate: True  | maxdiff: 0.0\n",
      "norm_logits     | exact: True  | approximate: True  | maxdiff: 0.0\n",
      "logit_maxes     | exact: True  | approximate: True  | maxdiff: 0.0\n",
      "logits          | exact: True  | approximate: True  | maxdiff: 0.0\n",
      "db2             | exact: True  | approximate: True  | maxdiff: 0.0\n",
      "dh              | exact: True  | approximate: True  | maxdiff: 0.0\n",
      "dW2             | exact: True  | approximate: True  | maxdiff: 0.0\n",
      "dhpreact        | exact: True  | approximate: True  | maxdiff: 0.0\n",
      "dbnbias         | exact: True  | approximate: True  | maxdiff: 0.0\n",
      "dbngain         | exact: True  | approximate: True  | maxdiff: 0.0\n",
      "dbnraw          | exact: True  | approximate: True  | maxdiff: 0.0\n",
      "dbnvar_inv      | exact: True  | approximate: True  | maxdiff: 0.0\n",
      "dbnvar          | exact: True  | approximate: True  | maxdiff: 0.0\n",
      "dbndiff2        | exact: True  | approximate: True  | maxdiff: 0.0\n",
      "dbndiff         | exact: True  | approximate: True  | maxdiff: 0.0\n",
      "dbnmeani        | exact: True  | approximate: True  | maxdiff: 0.0\n",
      "dhprebn         | exact: True  | approximate: True  | maxdiff: 0.0\n",
      "db1             | exact: True  | approximate: True  | maxdiff: 0.0\n",
      "dW1             | exact: True  | approximate: True  | maxdiff: 0.0\n",
      "dembcat         | exact: True  | approximate: True  | maxdiff: 0.0\n",
      "demb            | exact: True  | approximate: True  | maxdiff: 0.0\n",
      "dC              | exact: True  | approximate: True  | maxdiff: 0.0\n"
     ]
    }
   ],
   "source": [
    "# Ex 1 : do the whole backprop thing manually \n",
    "\n",
    "# loss = -logprobs[range(n),Yb].mean()\n",
    "dlogprobs = torch.zeros_like(logprobs)\n",
    "dlogprobs[range(n),Yb] = -1.0/n\n",
    "\n",
    "dlogprobs_probs = probs**-1\n",
    "dprobs = dlogprobs_probs * dlogprobs\n",
    "dcounts_sum_inv = (counts * dprobs).sum(1,keepdim=True)\n",
    "dcounts = counts_sum_inv * dprobs\n",
    "dcounts_sum = - (counts_sum**-2) * dcounts_sum_inv\n",
    "dcounts += dcounts_sum.broadcast_to(counts.shape)\n",
    "# dcounts += torch.ones_like(counts) * dcounts_sum\n",
    "dnorm_logits = counts * dcounts\n",
    "dlogits = dnorm_logits.clone()\n",
    "dlogit_maxes = (-dnorm_logits).sum(1,keepdim=True)\n",
    "dlogits += F.one_hot(logits.max(1).indices,num_classes = logits.shape[1]) * dlogit_maxes\n",
    "\n",
    "# logits = h @ W2 + b2\n",
    "dh = dlogits @ W2.T\n",
    "dW2 = h.T @ dlogits\n",
    "db2 = dlogits.sum(0) # broadcasted across rows (replicated vertically)\n",
    "\n",
    "# h = torch.tanh(hpreact)\n",
    "dhpreact = (1.0-h**2)*dh\n",
    "\n",
    "# hpreact = bngain*bnraw + bnbias\n",
    "dbngain = (bnraw*dhpreact).sum(0,keepdim=True)\n",
    "dbnraw = bngain*dhpreact\n",
    "dbnbias = dhpreact.sum(0)\n",
    "\n",
    "# bnraw = bndiff*bnvar_inv\n",
    "dbndiff = bnvar_inv*dbnraw\n",
    "dbnvar_inv = (bndiff*dbnraw).sum(0,keepdim=True)\n",
    "\n",
    "# bnvar_inv = (bnvar+1e-5)**-0.5\n",
    "dbnvar = -0.5 * (bnvar+1e-5)**(-1.5) * dbnvar_inv\n",
    "\n",
    "# bnvar = 1/(n-1)*(bndiff2).sum(0,keepdim=True)\n",
    "# dbndiff2 = (1.0/(n-1))*torch.ones_like(bndiff2) * dbnvar\n",
    "dbndiff2 = (1.0/(n-1)) * dbnvar.broadcast_to(bndiff2.shape)\n",
    "\n",
    "# bndiff2 = bndiff**2\n",
    "dbndiff += 2* bndiff * dbndiff2\n",
    "\n",
    "# bndiff = hprebn - bnmeani\n",
    "dhprebn = dbndiff.clone()\n",
    "dbnmeani = (-dbndiff).sum(0,keepdim=True)\n",
    "\n",
    "# bnmeani = 1/n*hprebn.sum(0,keepdim=True)\n",
    "dhprebn += (1.0/n)*dbnmeani.broadcast_to(hprebn.shape)\n",
    "\n",
    "# hprebn = embcat @ W1 + b1\n",
    "db1 = dhprebn.sum(0)\n",
    "dW1 = embcat.T @ dhprebn\n",
    "dembcat = dhprebn @ W1.T\n",
    "\n",
    "# embcat = emb.view(emb.shape[0],-1)\n",
    "demb = dembcat.reshape(emb.shape)\n",
    "\n",
    "# emb = C[Xb]\n",
    "dC = torch.zeros_like(C)\n",
    "for k in range(Xb.shape[0]):\n",
    "    for j in range(Xb.shape[1]):\n",
    "        ix = Xb[k,j]\n",
    "        dC[ix]+=demb[k,j]\n",
    "\n",
    "\n",
    "cmp('logprobs',dlogprobs, logprobs)\n",
    "cmp('probs',dprobs, probs)\n",
    "cmp('counts_sum_inv',dcounts_sum_inv, counts_sum_inv)\n",
    "cmp('counts_sum',dcounts_sum, counts_sum)\n",
    "cmp('counts',dcounts, counts)\n",
    "cmp('norm_logits',dnorm_logits, norm_logits)\n",
    "cmp('logit_maxes',dlogit_maxes, logit_maxes)\n",
    "cmp('logits',dlogits,logits)\n",
    "cmp('db2', db2, b2)\n",
    "cmp('dh',dh,h)\n",
    "cmp('dW2',dW2,W2)\n",
    "cmp('dhpreact',dhpreact,hpreact)\n",
    "cmp('dbnbias',dbnbias,bnbias)\n",
    "cmp('dbngain',dbngain,bngain)\n",
    "cmp('dbnraw',dbnraw,bnraw)\n",
    "cmp('dbnvar_inv',dbnvar_inv,bnvar_inv)\n",
    "cmp('dbnvar',dbnvar,bnvar)\n",
    "cmp('dbndiff2',dbndiff2,bndiff2)\n",
    "cmp('dbndiff',dbndiff,bndiff)\n",
    "cmp('dbnmeani',dbnmeani,bnmeani)\n",
    "cmp('dhprebn',dhprebn,hprebn)\n",
    "cmp('db1',db1,b1)\n",
    "cmp('dW1',dW1,W1)\n",
    "cmp('dembcat',dembcat,embcat)\n",
    "cmp('demb',demb,emb)\n",
    "cmp('dC',dC, C)\n",
    "\n",
    "\n"
   ]
  },
  {
   "cell_type": "code",
   "execution_count": 20,
   "id": "705e2ef0",
   "metadata": {},
   "outputs": [
    {
     "data": {
      "text/plain": [
       "(torch.Size([32, 64]),\n",
       " torch.Size([32, 30]),\n",
       " torch.Size([30, 64]),\n",
       " torch.Size([64]))"
      ]
     },
     "execution_count": 20,
     "metadata": {},
     "output_type": "execute_result"
    }
   ],
   "source": [
    "hprebn.shape, embcat.shape, W1.shape, b1.shape"
   ]
  },
  {
   "cell_type": "code",
   "execution_count": 30,
   "id": "5df3920f",
   "metadata": {},
   "outputs": [
    {
     "data": {
      "text/plain": [
       "(torch.Size([32, 3, 10]), torch.Size([27, 10]), torch.Size([32, 3]))"
      ]
     },
     "execution_count": 30,
     "metadata": {},
     "output_type": "execute_result"
    }
   ],
   "source": [
    "emb.shape, C.shape, Xb.shape"
   ]
  },
  {
   "cell_type": "code",
   "execution_count": 35,
   "id": "e280606a",
   "metadata": {},
   "outputs": [
    {
     "name": "stdout",
     "output_type": "stream",
     "text": [
      "3.460947036743164 3.460947036743164 diff:  0.0\n"
     ]
    }
   ],
   "source": [
    "# Ex 2: backprop throgh cross_entropy in one go\n",
    "# take derivative of loss wrt logits\n",
    "\n",
    "# forwad pass \n",
    "# before\n",
    "# logit_maxes = logits.max(1,keepdim=True).values\n",
    "# norm_logits = logits - logit_maxes # subtract max for numerical stability\n",
    "# counts = norm_logits.exp()\n",
    "# counts_sum = counts.sum(1,keepdim=True) # 32x37 => 32x1\n",
    "# counts_sum_inv = counts_sum**-1 # doing 1/count_sum wouldn't be exact for backprop\n",
    "# probs = counts * counts_sum_inv # 32x27, 32x1\n",
    "# logprobs = probs.log()\n",
    "# loss = -logprobs[range(n),Yb].mean()\n",
    "\n",
    "# Now:\n",
    "loss_fast = F.cross_entropy(logits,Yb)\n",
    "print(loss_fast.item(), loss.item(), 'diff: ', (loss_fast-loss).item())"
   ]
  },
  {
   "cell_type": "code",
   "execution_count": 37,
   "id": "062880dd",
   "metadata": {},
   "outputs": [
    {
     "name": "stdout",
     "output_type": "stream",
     "text": [
      "dlogits         | exact: False | approximate: True  | maxdiff: 4.889443516731262e-09\n"
     ]
    }
   ],
   "source": [
    "# backward pass\n",
    "dlogits = F.softmax(logits,1)\n",
    "dlogits[range(n),Yb] -= 1\n",
    "dlogits /= n\n",
    "\n",
    "cmp('dlogits', dlogits,logits)"
   ]
  },
  {
   "cell_type": "code",
   "execution_count": 40,
   "id": "83d80f64",
   "metadata": {},
   "outputs": [
    {
     "data": {
      "image/png": "[encoded data removed]",
      "text/plain": [
       "<Figure size 800x800 with 1 Axes>"
      ]
     },
     "metadata": {},
     "output_type": "display_data"
    }
   ],
   "source": [
    "# What is dlogits?\n",
    "plt.figure(figsize=(8,8))\n",
    "plt.imshow(dlogits.detach(), cmap='gray');"
   ]
  },
  {
   "cell_type": "code",
   "execution_count": 42,
   "id": "d5477f92",
   "metadata": {},
   "outputs": [
    {
     "name": "stdout",
     "output_type": "stream",
     "text": [
      "max_diff:  tensor(4.7684e-07, grad_fn=<MaxBackward1>)\n"
     ]
    }
   ],
   "source": [
    "# Exercise 3: backprop through batchnorm layer but all in one go\n",
    "# look at exp for batchnorm and take deriv wrt its input\n",
    "\n",
    "# forward pass\n",
    "# before:\n",
    "# bnmeani = 1/n*hprebn.sum(0,keepdim=True)\n",
    "# bndiff = hprebn - bnmeani\n",
    "# bndiff2 = bndiff**2\n",
    "# bnvar = 1/(n-1)*(bndiff2).sum(0,keepdim=True) # bessel's correction n-1 not n\n",
    "# bnvar_inv = (bnvar+1e-5)**-0.5\n",
    "# bnraw = bndiff*bnvar_inv\n",
    "# hpreact = bngain*bnraw + bnbias\n",
    "\n",
    "# now:\n",
    "hpreact_fast = bngain * (hprebn - hprebn.mean(0,keepdim=True)) / torch.sqrt(hprebn.var(0, keepdim=True, unbiased=True) + 1e-5) + bnbias\n",
    "print('max_diff: ', (hpreact_fast-hpreact).abs().max())"
   ]
  },
  {
   "cell_type": "code",
   "execution_count": 43,
   "id": "756838da",
   "metadata": {},
   "outputs": [
    {
     "name": "stdout",
     "output_type": "stream",
     "text": [
      "dhprebn         | exact: False | approximate: True  | maxdiff: 1.1641532182693481e-09\n"
     ]
    }
   ],
   "source": [
    "# backward pass\n",
    "# dbngain = (bnraw*dhpreact).sum(0,keepdim=True)\n",
    "# dbnraw = bngain*dhpreact\n",
    "# dbnbias = dhpreact.sum(0)\n",
    "\n",
    "# # bnraw = bndiff*bnvar_inv\n",
    "# dbndiff = bnvar_inv*dbnraw\n",
    "# dbnvar_inv = (bndiff*dbnraw).sum(0,keepdim=True)\n",
    "\n",
    "# # bnvar_inv = (bnvar+1e-5)**-0.5\n",
    "# dbnvar = -0.5 * (bnvar+1e-5)**(-1.5) * dbnvar_inv\n",
    "\n",
    "# # bnvar = 1/(n-1)*(bndiff2).sum(0,keepdim=True)\n",
    "# # dbndiff2 = (1.0/(n-1))*torch.ones_like(bndiff2) * dbnvar\n",
    "# dbndiff2 = (1.0/(n-1)) * dbnvar.broadcast_to(bndiff2.shape)\n",
    "\n",
    "# # bndiff2 = bndiff**2\n",
    "# dbndiff += 2* bndiff * dbndiff2\n",
    "\n",
    "# # bndiff = hprebn - bnmeani\n",
    "# dhprebn = dbndiff.clone()\n",
    "# dbnmeani = (-dbndiff).sum(0,keepdim=True)\n",
    "\n",
    "# # bnmeani = 1/n*hprebn.sum(0,keepdim=True)\n",
    "# dhprebn += (1.0/n)*dbnmeani.broadcast_to(hprebn.shape)\n",
    "\n",
    "dhprebn = bngain * bnvar_inv/n * (n*dhpreact - dhpreact.sum(0) -n/(n-1)*bnraw*(dhpreact*bnraw).sum(0))\n",
    "cmp('dhprebn',dhprebn, hprebn)\n",
    " "
   ]
  },
  {
   "cell_type": "code",
   "execution_count": 79,
   "id": "6438b634",
   "metadata": {},
   "outputs": [
    {
     "name": "stdout",
     "output_type": "stream",
     "text": [
      "12297\n",
      "0 tensor(3.6209)\n",
      "10000 tensor(2.4809)\n",
      "20000 tensor(1.8566)\n",
      "30000 tensor(2.3609)\n",
      "40000 tensor(1.9766)\n",
      "50000 tensor(1.9988)\n",
      "60000 tensor(1.9970)\n",
      "70000 tensor(2.5475)\n",
      "80000 tensor(1.9352)\n",
      "90000 tensor(1.7701)\n",
      "100000 tensor(2.4469)\n",
      "110000 tensor(2.3137)\n",
      "120000 tensor(2.1310)\n",
      "130000 tensor(1.9865)\n",
      "140000 tensor(2.3196)\n",
      "150000 tensor(1.9866)\n",
      "160000 tensor(2.3695)\n",
      "170000 tensor(1.9863)\n",
      "180000 tensor(2.2959)\n",
      "190000 tensor(2.7086)\n"
     ]
    }
   ],
   "source": [
    "# Ex 4 : Train using manual steps\n",
    "\n",
    "n_embd = 10 # dimensionality of char embedding vectors\n",
    "n_hidden = 200 # num of hidden neurons\n",
    "\n",
    "g = torch.Generator().manual_seed(2147483647) \n",
    "C = torch.randn((vocab_size,n_embd), generator = g)\n",
    "#Layer 1\n",
    "W1 = torch.randn((n_embd*block_size, n_hidden), generator=g) * (5/3) / ((n_embd*block_size)**0.5)\n",
    "b1 = torch.randn(n_hidden, generator = g) * 0.1 # just to check grad\n",
    "# Layer 2\n",
    "W2 = torch.randn((n_hidden, vocab_size), generator = g) * 0.1\n",
    "b2 = torch.randn(vocab_size, generator=g) * 0.1\n",
    "# batchNorm params\n",
    "bngain = torch.randn((1,n_hidden), generator =g ) * 0.1 + 1.0\n",
    "bnbias = torch.randn((1,n_hidden))*0.1\n",
    "\n",
    "# non standard init for just check grads as zero vals can mask incorect gradients\n",
    "\n",
    "parameters = [C,W1,b1, W2, b2, bngain, bnbias]\n",
    "print(sum(p.nelement() for p in parameters)) # total params\n",
    "for p in parameters:\n",
    "    p.requires_grad = True\n",
    "\n",
    "batch_size = 32\n",
    "n = batch_size # shorter var size for convenice\n",
    "max_steps = 200000\n",
    "lossi = []\n",
    "with torch.no_grad():\n",
    "    for i in range(max_steps):\n",
    "        # construct a minibatch\n",
    "        ix = torch.randint(0, Xtr.shape[0],(batch_size,), generator=g)\n",
    "        Xb, Yb = Xtr[ix], Ytr[ix]\n",
    "\n",
    "        # forward pass, chunked into smaller steps to backward one at a time\n",
    "\n",
    "        emb = C[Xb] # embed char into vectors\n",
    "        embcat = emb.view(emb.shape[0],-1) # concat \n",
    "        # linear layer 1\n",
    "        hprebn = embcat @ W1 + b1 # hidden layer pre activation\n",
    "        # batch norm layer\n",
    "        bnmean = hprebn.mean(0,keepdim=True)\n",
    "        bnvar = hprebn.var(0,keepdim=True)\n",
    "        bnvar_inv = (bnvar+1e-5)**-0.5\n",
    "        bnraw = (hprebn-bnmean)*bnvar_inv\n",
    "        hpreact = bngain*bnraw + bnbias\n",
    "        # non-linearity\n",
    "        h = torch.tanh(hpreact) # hidden layer tanh\n",
    "        # linear layer 2\n",
    "        logits = h @ W2 + b2 # output layer\n",
    "        loss = F.cross_entropy(logits,Yb)\n",
    "        if i%10000==0:    \n",
    "            print(i, loss)\n",
    "\n",
    "        # pytorch backward pass\n",
    "        for p in parameters:\n",
    "            p.grad=None\n",
    "#         loss.backward()\n",
    "        # loss\n",
    "\n",
    "        dlogits = F.softmax(logits,1)\n",
    "        dlogits[range(n),Yb] -= 1\n",
    "        dlogits /= n\n",
    "\n",
    "        # 2nd layer backprop\n",
    "        # logits = h @ W2 + b2\n",
    "        dh = dlogits @ W2.T\n",
    "        dW2 = h.T @ dlogits\n",
    "        db2 = dlogits.sum(0) # broadcasted across rows (replicated vertically)\n",
    "\n",
    "        # h = torch.tanh(hpreact)\n",
    "        dhpreact = (1.0-h**2)*dh\n",
    "\n",
    "        # Batchnorm backprop\n",
    "        dbngain = (bnraw*dhpreact).sum(0,keepdim=True)\n",
    "        dbnbias = dhpreact.sum(0)\n",
    "\n",
    "        dhprebn = bngain * bnvar_inv/n * (n*dhpreact - dhpreact.sum(0) -n/(n-1)*bnraw*(dhpreact*bnraw).sum(0))\n",
    "\n",
    "        # hprebn = embcat @ W1 + b1\n",
    "        db1 = dhprebn.sum(0)\n",
    "        dW1 = embcat.T @ dhprebn\n",
    "        dembcat = dhprebn @ W1.T\n",
    "\n",
    "        # embcat = emb.view(emb.shape[0],-1)\n",
    "        demb = dembcat.reshape(emb.shape)\n",
    "\n",
    "        # emb = C[Xb]\n",
    "        dC = torch.zeros_like(C)\n",
    "        for k in range(Xb.shape[0]):\n",
    "            for j in range(Xb.shape[1]):\n",
    "                ix = Xb[k,j]\n",
    "                dC[ix]+=demb[k,j]\n",
    "        grads = [dC, dW1, db1, dW2, db2, dbngain, dbnbias]\n",
    "        \n",
    "        # update\n",
    "        lr = 0.1 if i<max_steps/2 else 0.01 # step lr decay\n",
    "        for p, grad in zip(parameters, grads):\n",
    "            p.data += -lr * grad\n",
    "            \n",
    "#         for p,z in zip(parameters,grads):\n",
    "#             cmp(str(tuple(p.shape)),z,p)\n",
    "            \n",
    "        lossi.append(loss.log().item())\n",
    "        \n"
   ]
  },
  {
   "cell_type": "code",
   "execution_count": 80,
   "id": "de8501a7",
   "metadata": {},
   "outputs": [],
   "source": [
    "with torch.no_grad():\n",
    "    # pass the training set\n",
    "    emb = C[Xtr]\n",
    "    embcat = emb.view(emb.shape[0],-1)\n",
    "    hpreact = embcat@W1 + b1\n",
    "    # measure mean/std\n",
    "    bnmean = hpreact.mean(0,keepdim=True)\n",
    "    bnvar = hpreact.var(0,keepdim=True, unbiased=True)\n",
    "    "
   ]
  },
  {
   "cell_type": "code",
   "execution_count": 81,
   "id": "9bf2714d",
   "metadata": {},
   "outputs": [
    {
     "name": "stdout",
     "output_type": "stream",
     "text": [
      "train 2.0707921981811523\n",
      "val 2.118593215942383\n"
     ]
    }
   ],
   "source": [
    "# evaluate train and val loss\n",
    "\n",
    "@torch.no_grad()\n",
    "def split_loss(split):\n",
    "    x,y = {\n",
    "        'train': (Xtr,Ytr),\n",
    "        'val' : (Xdev,Ydev),\n",
    "        'test' : (Xte,Yte),\n",
    "    }[split]\n",
    "    emb = C[x]\n",
    "    hpreact = emb.view(emb.shape[0],-1)@W1 + b1\n",
    "    hpreact = bngain *(hpreact-bnmean)*(bnvar+1e-5)**-0.5 + bnbias\n",
    "    h = torch.tanh(hpreact)\n",
    "    logits = h@W2 + b2\n",
    "    loss = F.cross_entropy(logits,y)\n",
    "    print(split,loss.item())\n",
    "split_loss('train')\n",
    "split_loss('val')"
   ]
  },
  {
   "cell_type": "code",
   "execution_count": 82,
   "id": "406cee33",
   "metadata": {},
   "outputs": [
    {
     "name": "stdout",
     "output_type": "stream",
     "text": [
      "carman.\n",
      "ambril.\n",
      "khi.\n",
      "mili.\n",
      "taty.\n",
      "skaan.\n",
      "kenleine.\n",
      "farliyat.\n",
      "kaeli.\n",
      "nellara.\n",
      "chaiiv.\n",
      "kaleigh.\n",
      "ham.\n",
      "joce.\n",
      "quint.\n",
      "suline.\n",
      "liven.\n",
      "corathon.\n",
      "jarinix.\n",
      "kaellinsley.\n"
     ]
    }
   ],
   "source": [
    "# Sample from the dataset\n",
    "\n",
    "g = torch.Generator().manual_seed(2147483647 + 10)\n",
    "\n",
    "for _ in range(20):\n",
    "    \n",
    "    out = []\n",
    "    context = [0] * block_size # ...\n",
    "    while True:\n",
    "        \n",
    "        emb = C[torch.tensor([context])] # 1xblock_sizexD\n",
    "        hpreact = emb.view(emb.shape[0],-1)@W1 + b1\n",
    "        hpreact = bngain *(hpreact-bnmean)*(bnvar+1e-5)**-0.5 + bnbias\n",
    "        h = torch.tanh(hpreact)\n",
    "        logits = h@W2 + b2\n",
    "        \n",
    "        # Sample\n",
    "        probs = F.softmax(logits,dim=1)\n",
    "        ix = torch.multinomial(probs,num_samples=1, generator=g).item()\n",
    "        context = context[1:]+[ix]\n",
    "        out.append(ix)\n",
    "        if ix==0:\n",
    "            break\n",
    "            \n",
    "    print(''.join(itos[i] for i in out))"
   ]
  },
  {
   "cell_type": "code",
   "execution_count": null,
   "id": "1e541587",
   "metadata": {},
   "outputs": [],
   "source": []
  }
 ],
 "metadata": {
  "kernelspec": {
   "display_name": "Python 3 (ipykernel)",
   "language": "python",
   "name": "python3"
  },
  "language_info": {
   "codemirror_mode": {
    "name": "ipython",
    "version": 3
   },
   "file_extension": ".py",
   "mimetype": "text/x-python",
   "name": "python",
   "nbconvert_exporter": "python",
   "pygments_lexer": "ipython3",
   "version": "3.9.6"
  }
 },
 "nbformat": 4,
 "nbformat_minor": 5
}
